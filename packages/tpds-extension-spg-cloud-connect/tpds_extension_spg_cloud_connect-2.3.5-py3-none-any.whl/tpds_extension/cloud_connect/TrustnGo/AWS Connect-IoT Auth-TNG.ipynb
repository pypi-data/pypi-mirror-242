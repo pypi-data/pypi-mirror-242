{
 "cells": [
  {
   "cell_type": "code",
   "execution_count": null,
   "metadata": {
    "scrolled": true
   },
   "outputs": [],
   "source": [
    "%%HTML\n",
    "<p id = 'heading1_p'> AWS Cloud Connect - ATECC608-TNGTLS </p>\n",
    "<hr id = 'hline'> </hr> \n",
    "<p id = 'heading1_p' style='font-size: 20px; font-weight: bold;'>Introduction</p>\n",
    "<div id='div_element'>\n",
    "<p>Transport Layer Security 1.2 (TLS 1.2) has become the de facto standard for connecting embedded systems to a network. While TLS 1.2 is undeniably robust, an embedded system still requires a unique, secure and trusted identity to prevent large-scale remote attacks. </p>\n",
    "<p>Securing communication with a Cloud service and manipulating keys comes with many challenges: storing and using keys in the microcontroller exposes them, operating systems and software have bugs, the Heartbleed bug for OpenSSL was notable by easily exposing keys. When combined with the TLS 1.2 protocol, Microchip’s ATECC608 Crypto Authentication device offers a unique, trusted, and verifiable identity that can help protect billions of connected devices by physically isolating keys and secrets from the application.​</p>\n",
    "<p>This use case demonstrates AWS cloud services.​</p>\n",
    "</div>\n",
    "\n",
    "<button class=\"collapsible\" style='font-size: 20px; font-weight: bold;'>Cryptographic Asset list & Use Case implementation</button>\n",
    "<div class=\"content\">\n",
    "<div id='content_element'>\n",
    "<hr id = 'h_content'> </hr> \n",
    "<p style=\"float: left; font-size: 9pt; text-align: center; width: 30%; margin-right: 1%;\">\n",
    "    <img src=\"assets/images/assets_aws_azure.png\" alt=\"Cryptographic Assets\" style=\"height: 35em; width: 100%\"><b>Cryptographic Asset list</b></p>\n",
    "<p style=\"float: left; font-size: 9pt; text-align: center; 20em; width: 50%; margin-right: 1%;\">\n",
    "    <img src=\"assets/images/steps_aws_azure.png\" alt=\"Use Case Steps\" style=\"height: 25em; width: 100%\"><b>Use Case implementation</b></p>\n",
    "<p style=\"clear: both;\">\n",
    "</div>\n",
    "</div>\n",
    "\n",
    "<p id = 'heading1_p' style='margin-top:40px; font-size: 20px; font-weight: bold;'>Use Case information</p>\n",
    "<hr id = 'hline'> </hr> \n",
    "<div id='div_element'>\n",
    "<p> The Transaction Diagram represent all steps to be performed to successfully implement the given Use Case, \n",
    "during development and after product delivery to the end-user. </p>\n",
    "<p><strong> For the ease of the execution, when steps are executed from transaction diagram, these are emulated in the Host-PC \n",
    "rather than executed in the Host-Microcontroller/Processor from the evaluation kit.</strong> The MPLAB-X project/C Source code includes software code to be executed in your Host-Microcontroller/Processor \n",
    "in your embedded project. </p>\n",
    "\n",
    "<p>Select your Evaluation kit and then click on each step to execute the Use Case. Click on Usecase Help button in \n",
    "transaction diagram for additional details.</p>\n",
    "</div>"
   ]
  },
  {
   "cell_type": "code",
   "execution_count": null,
   "metadata": {
    "scrolled": false
   },
   "outputs": [],
   "source": [
    "import os, shutil\n",
    "from tpds.usecase_diagram import ProtoBoard, UsecaseDiagram\n",
    "from tpds.proto_boards import get_board_path\n",
    "from tpds.tp_utils.tp_settings import TPSettings\n",
    "from tpds.proto_boards import get_board_path\n",
    "from IPython.display import display\n",
    "\n",
    "curr_path = os.path.abspath('')\n",
    "os.sys.path.extend([os.path.join(curr_path, 'assets', 'python')])\n",
    "import aws_connect\n",
    "\n",
    "tp_settings = TPSettings()\n",
    "usecase_working_dir = os.path.join(tp_settings.get_base_folder(), 'spg_cloud_connect')\n",
    "os.makedirs(usecase_working_dir, exist_ok=True)\n",
    "base_path = os.path.realpath(os.path.join(curr_path, '..'))\n",
    "boards = ProtoBoard(max_width=400)\n",
    "boards.add_board(\n",
    "            'DM320118', \n",
    "            os.path.join(get_board_path(), 'DM320118', 'DM320118_WINC.png'), \n",
    "            os.path.join(get_board_path(), 'DM320118', 'DM320118.hex'),\n",
    "            # Combined project for TrustFLEX and TNG cloud connect\n",
    "            os.path.join(base_path, 'TrustFlex', 'firmware', 'cloud_connect_dm320118.X'))\n",
    "boards.render_boards()\n",
    "\n",
    "#copy account setup yaml to users folder\n",
    "shutil.copy(os.path.join(base_path, 'TrustFlex', 'assets', 'aws-zero-touch-full-setup.yaml'), tp_settings.get_base_folder())\n",
    "shutil.copy(os.path.join(base_path, 'TrustFlex', 'assets', 'aws-zero-touch-full-setup-cn.yaml'), tp_settings.get_base_folder())\n",
    "target_winc_path = os.path.join(tp_settings.get_base_folder(), 'winc_firmware_upgrade')\n",
    "if not os.path.exists(target_winc_path):\n",
    "    shutil.copytree(os.path.join(get_board_path(), 'DM320118', 'winc_firmware_upgrade'), target_winc_path)\n",
    "    \n",
    "aws_connection = aws_connect.AWSConnectUsecase(boards)\n",
    "usecase_td = UsecaseDiagram(os.path.join(curr_path, 'assets', 'images', 'td_aws_connect.png'), working_dir=usecase_working_dir)\n",
    "\n",
    "generate_manifest = usecase_td.add_script(235,70,35,30, aws_connection.generate_or_upload_manifest)\n",
    "register_certs = usecase_td.add_script(237,127,35,30, aws_connection.register_device, prereq_scripts = [generate_manifest])\n",
    "verify_cert_chain = usecase_td.add_script(241,286,35,30, aws_connection.verify_cert_chain, prereq_scripts = [generate_manifest])\n",
    "verify_with_rand_challenge = usecase_td.add_script(241,361,35,30, aws_connection.verify_SE_with_random_challenge, prereq_scripts = [verify_cert_chain])\n",
    "\n",
    "usecase_td.add_firmware(boards.get_firmware_project, tp_settings.get_mplab_paths().get('ide_path'))\n",
    "usecase_td.add_image(725,243,139,27, os.path.join(curr_path, 'assets', 'images', 'c-snippet.png'), 'Code Snippet')\n",
    "usecase_td.add_link(740,287,107,11,\n",
    "    'https://github.com/MicrochipTech/cryptoauthlib/blob/af8187776cd3f3faf8bed412eaf6ff7221862e19/lib/atcacert/atcacert_client.c#L111')\n",
    "usecase_td.add_link(745,347,114,14,\n",
    "    'https://github.com/MicrochipTech/cryptoauth_trustplatform_designsuite/blob/bcb5b4d8b96465b8082b4930adae866f016c81ac/TrustFLEX/10_cloud_connect/firmware/src/common/cloud_wifi_ecc_process.c#L247')\n",
    "usecase_td.add_link(351,284,133,10,\n",
    "    'https://github.com/MicrochipTech/cryptoauth_trustplatform_designsuite/blob/bcb5b4d8b96465b8082b4930adae866f016c81ac/TrustFLEX/10_cloud_connect/firmware/src/common/cloud_wifi_ecc_process.c#L382')\n",
    "# Combined project for TrustFLEX and TNG cloud connect\n",
    "usecase_td.add_usecase_help(os.path.join(base_path, 'TrustFlex', 'assets', 'AWS Connect.md'))\n",
    "\n",
    "display(boards.canvas)\n",
    "usecase_td.display_canvas()"
   ]
  }
 ],
 "metadata": {
  "interpreter": {
   "hash": "3c20e8a1d013fe1a298027f545a4867274e2918f2d8644ac354d58121bc4c8ec"
  },
  "kernelspec": {
   "display_name": "Python 3",
   "language": "python",
   "name": "python3"
  },
  "language_info": {
   "codemirror_mode": {
    "name": "ipython",
    "version": 3
   },
   "file_extension": ".py",
   "mimetype": "text/x-python",
   "name": "python",
   "nbconvert_exporter": "python",
   "pygments_lexer": "ipython3",
   "version": "3.7.10"
  }
 },
 "nbformat": 4,
 "nbformat_minor": 2
}
