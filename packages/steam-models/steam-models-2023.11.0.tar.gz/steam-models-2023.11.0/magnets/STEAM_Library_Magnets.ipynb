{
 "cells": [
  {
   "cell_type": "code",
   "execution_count": 1,
   "id": "97fc8495",
   "metadata": {
    "ExecuteTime": {
     "end_time": "2022-03-11T12:03:02.677281Z",
     "start_time": "2022-03-11T12:03:02.206052Z"
    }
   },
   "outputs": [],
   "source": [
    "# Install required package\n",
    "import sys\n",
    "# !{sys.executable} -m pip install --user --upgrade steam-sdk\n",
    "\n",
    "import os\n",
    "import numpy as np\n",
    "from matplotlib import pyplot as plt \n",
    "import ipywidgets as widgets"
   ]
  },
  {
   "cell_type": "code",
   "execution_count": 2,
   "id": "eb82587a",
   "metadata": {
    "ExecuteTime": {
     "end_time": "2022-03-11T12:03:02.683221Z",
     "start_time": "2022-03-11T12:03:02.680424Z"
    }
   },
   "outputs": [],
   "source": [
    "# THIS IS NOT NEEDED - IT IS JUST TO CHECK THAT THE STEAM_SDK PACKAGE CAN BE SUCCESSFULLY BE IMPORTED\n",
    "# from steam_sdk import *"
   ]
  },
  {
   "cell_type": "code",
   "execution_count": 3,
   "id": "7c08c073",
   "metadata": {
    "ExecuteTime": {
     "end_time": "2022-03-11T12:03:04.576406Z",
     "start_time": "2022-03-11T12:03:02.685192Z"
    }
   },
   "outputs": [],
   "source": [
    "# Import local GUI settings/functions\n",
    "from GUI_settings import *"
   ]
  },
  {
   "cell_type": "code",
   "execution_count": 4,
   "id": "3090dd52",
   "metadata": {
    "ExecuteTime": {
     "end_time": "2022-03-11T12:03:04.583397Z",
     "start_time": "2022-03-11T12:03:04.579560Z"
    }
   },
   "outputs": [],
   "source": [
    "# # Local commands TODO: integrate into a function\n",
    "# from steam_sdk.builders.BuilderModel import BuilderModel\n",
    "\n",
    "# case_model = 'magnet'\n",
    "# magnet_name = 'MBRB'\n",
    "# software = 'LEDET'\n",
    "# flagBuild = True\n",
    "# verbose = True\n",
    "# print('magnet_name: {}'.format(magnet_name))\n",
    "# print('software: {}'.format(software))\n",
    "# print('flagBuild: {}'.format(flagBuild))\n",
    "# print('verbose: {}'.format(verbose))\n",
    "\n",
    "# file_model_data = os.path.join(magnet_name, 'input', 'modelData_' + magnet_name + '.yaml')\n",
    "# output_folder   = os.path.join(magnet_name, ('output'))\n",
    "\n",
    "\n",
    "# # Build model\n",
    "# BM = BuilderModel(file_model_data=file_model_data, case_model=case_model, software=[software], flag_build=flagBuild, flag_dump_all=False,\n",
    "#                   output_path=output_folder, verbose=verbose)"
   ]
  },
  {
   "cell_type": "code",
   "execution_count": 5,
   "id": "f663a56a",
   "metadata": {
    "ExecuteTime": {
     "end_time": "2022-03-11T12:03:04.589072Z",
     "start_time": "2022-03-11T12:03:04.585464Z"
    }
   },
   "outputs": [],
   "source": [
    "# # Local function TODO: pass to local package\n",
    "# import os\n",
    "# from steam_sdk.builders.BuilderModel import BuilderModel\n",
    "\n",
    "# def on_button_clicked_local():\n",
    "#     print('magnet_name: {}'.format(magnet_name))\n",
    "#     print('software: {}'.format(software))\n",
    "#     print('flagBuild: {}'.format(flagBuild))\n",
    "#     print('verbose: {}'.format(verbose))\n",
    "\n",
    "#     file_model_data = os.path.join(magnet_name, 'input', 'modelData_' + magnet_name + '.yaml')\n",
    "#     output_folder   = os.path.join(magnet_name, ('output'))\n",
    "\n",
    "\n",
    "#     # Build model\n",
    "#     BM = BuilderModel(file_model_data=file_model_data, software=software, flag_build=flagBuild, flag_dump_all=False,\n",
    "#                       output_path=output_folder, verbose=verbose)\n",
    "    \n",
    "\n",
    "# # Define options [TODO: drop-down menus]\n",
    "# magnet_names = ['MQXF_V2', 'MBRD']\n",
    "# programs = ['LEDET', 'SIGMA', 'FiQuS', 'ProteCCT']\n",
    "\n",
    "# magnet_name = magnet_names[0]\n",
    "# software = programs[0]\n",
    "# flagBuild = True\n",
    "# verbose = True\n",
    "\n",
    "\n",
    "# # Build model [TODO: button]\n",
    "# on_button_clicked_local()"
   ]
  },
  {
   "cell_type": "code",
   "execution_count": 8,
   "id": "80fd0307",
   "metadata": {
    "ExecuteTime": {
     "end_time": "2022-03-11T14:57:56.289370Z",
     "start_time": "2022-03-11T14:57:56.174357Z"
    }
   },
   "outputs": [
    {
     "data": {
      "application/vnd.jupyter.widget-view+json": {
       "model_id": "fc05275093854d99acd1e2dd672c4d6e",
       "version_major": 2,
       "version_minor": 0
      },
      "text/plain": [
       "interactive(children=(Dropdown(description='case_model', options=('magnet', 'circuit'), value='magnet'), Dropd…"
      ]
     },
     "metadata": {},
     "output_type": "display_data"
    },
    {
     "name": "stdout",
     "output_type": "stream",
     "text": [
      "(Dropdown(description='case_model', options=('magnet', 'circuit'), value='magnet'), Dropdown(description='magnet_name', options=('MBRB', 'MBRC', 'MBRD', 'MBRS', 'MBX', 'MBXF', 'MB_2COILS', 'MCBRD', 'MED_C_COMB', 'MO', 'MO_1AP', 'MQMC_2in1', 'MQML_2in1', 'MQM_2in1', 'MQXF_1Pole', 'MQXF_V2', 'MQY_2in1', 'MQ_1AP'), value='MBRB'), Dropdown(description='software', options=('LEDET', 'SIGMA', 'FiQuS', 'ProteCCT', 'PSPICE'), value='LEDET'), Checkbox(value=True, description='flagBuild'), Checkbox(value=False, description='verbose'), Checkbox(value=False, description='flag_plot_all'), Button(description='Run Interact', style=ButtonStyle()), Output())\n"
     ]
    }
   ],
   "source": [
    "# STEAM Library GUI\n",
    "cases = ['magnet', 'circuit']\n",
    "list_subfolders = next(os.walk('.'))[1]  # List all subfolders\n",
    "list_subfolders = [x for x in list_subfolders if not \".sys\" in x]  # Remove entries with \".sys\"\n",
    "list_subfolders = [x for x in list_subfolders if not \"__pycache__\" in x]  # Remove entries with \"__pycache__\"\n",
    "magnet_names = list_subfolders\n",
    "programs = ['LEDET', 'SIGMA', 'FiQuS', 'ProteCCT', 'PSPICE']\n",
    "\n",
    "x = widgets.interact_manual(STEAM_Library, case_model=cases, magnet_name=magnet_names, software=programs, flagBuild=True, verbose=False, flag_plot_all=False)\n",
    "x.widget.children[0].description = 'Case'\n",
    "x.widget.children[1].description = 'Magnet'\n",
    "x.widget.children[2].description = 'Software'\n",
    "x.widget.children[6].description = 'Build model'"
   ]
  },
  {
   "cell_type": "code",
   "execution_count": null,
   "id": "82f31321",
   "metadata": {},
   "outputs": [],
   "source": []
  }
 ],
 "metadata": {
  "kernelspec": {
   "display_name": "Python 3",
   "language": "python",
   "name": "python3"
  },
  "language_info": {
   "codemirror_mode": {
    "name": "ipython",
    "version": 3
   },
   "file_extension": ".py",
   "mimetype": "text/x-python",
   "name": "python",
   "nbconvert_exporter": "python",
   "pygments_lexer": "ipython3",
   "version": "3.9.6"
  }
 },
 "nbformat": 4,
 "nbformat_minor": 5
}
