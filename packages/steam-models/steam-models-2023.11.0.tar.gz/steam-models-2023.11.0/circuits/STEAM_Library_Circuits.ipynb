{
 "cells": [
  {
   "cell_type": "code",
   "execution_count": 1,
   "id": "97fc8495",
   "metadata": {
    "ExecuteTime": {
     "end_time": "2022-03-11T12:01:11.366066Z",
     "start_time": "2022-03-11T12:01:10.895460Z"
    }
   },
   "outputs": [],
   "source": [
    "# Install required package\n",
    "import sys\n",
    "# !{sys.executable} -m pip install --user --upgrade steam-sdk\n",
    "\n",
    "import os\n",
    "import numpy as np\n",
    "from matplotlib import pyplot as plt \n",
    "import ipywidgets as widgets"
   ]
  },
  {
   "cell_type": "code",
   "execution_count": 2,
   "id": "7c08c073",
   "metadata": {
    "ExecuteTime": {
     "end_time": "2022-03-11T12:01:13.903659Z",
     "start_time": "2022-03-11T12:01:11.376135Z"
    }
   },
   "outputs": [],
   "source": [
    "# Import local GUI settings/functions\n",
    "from GUI_settings import *"
   ]
  },
  {
   "cell_type": "code",
   "execution_count": 7,
   "id": "80fd0307",
   "metadata": {
    "ExecuteTime": {
     "end_time": "2022-03-11T12:02:23.764945Z",
     "start_time": "2022-03-11T12:02:23.650645Z"
    }
   },
   "outputs": [
    {
     "data": {
      "application/vnd.jupyter.widget-view+json": {
       "model_id": "6bcd8ad897c94d73ba1734c1455c4880",
       "version_major": 2,
       "version_minor": 0
      },
      "text/plain": [
       "interactive(children=(Dropdown(description='case_model', index=1, options=('circuit', 'magnet'), value='magnet…"
      ]
     },
     "metadata": {},
     "output_type": "display_data"
    }
   ],
   "source": [
    "# STEAM Library GUI\n",
    "cases = ['circuit', 'magnet']\n",
    "list_subfolders = next(os.walk('.'))[1]  # List all subfolders\n",
    "list_subfolders = [x for x in list_subfolders if not \".sys\" in x]  # Remove entries with \".sys\"\n",
    "list_subfolders = [x for x in list_subfolders if not \"__pycache__\" in x]  # Remove entries with \"__pycache__\"\n",
    "magnet_names = list_subfolders\n",
    "programs = ['PSPICE', 'LEDET', 'SIGMA', 'FiQuS', 'ProteCCT']\n",
    "\n",
    "x = widgets.interact_manual(STEAM_Library, case_model=cases, magnet_name=magnet_names, software=programs, flagBuild=True, verbose=False, flag_plot_all=False)\n",
    "x.widget.children[0].description = 'Case'\n",
    "x.widget.children[1].description = 'Circuit'\n",
    "x.widget.children[2].description = 'Software'\n",
    "x.widget.children[6].description = 'Build model'"
   ]
  }
 ],
 "metadata": {
  "kernelspec": {
   "display_name": "Python 3",
   "language": "python",
   "name": "python3"
  },
  "language_info": {
   "codemirror_mode": {
    "name": "ipython",
    "version": 3
   },
   "file_extension": ".py",
   "mimetype": "text/x-python",
   "name": "python",
   "nbconvert_exporter": "python",
   "pygments_lexer": "ipython3",
   "version": "3.9.6"
  }
 },
 "nbformat": 4,
 "nbformat_minor": 5
}
