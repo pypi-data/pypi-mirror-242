{
 "cells": [
  {
   "cell_type": "markdown",
   "metadata": {},
   "source": [
    "# Download citation data from NIH-OCC\n",
    "NIH-OCC: Nation Institute of Health's Open Citation Collection https://icite.od.nih.gov/\n",
    "\n",
    "## 1) Load the NIH Downloader\n",
    "Download the details about a paper's citations by setting the `NIHiCiteDownloader` argument `details_cites_refs` to `\"citations\"`."
   ]
  },
  {
   "cell_type": "code",
   "execution_count": 1,
   "metadata": {},
   "outputs": [],
   "source": [
    "from pmidcite.icite.downloader import get_downloader\n",
    "\n",
    "dnldr = get_downloader(details_cites_refs=\"citations\")"
   ]
  },
  {
   "cell_type": "markdown",
   "metadata": {},
   "source": [
    "Values for the `NIHiCiteDownloader` argument `details_cites_refs` include:\n",
    "* `\"citations\"`\n",
    "* `\"references\"`\n",
    "* `\"all\"` (downloads details for both citations and references)"
   ]
  },
  {
   "cell_type": "markdown",
   "metadata": {},
   "source": [
    "## 2) Download NIH-OCC data for one PMID\n",
    "\n",
    "The first paper, `TOP`, is the requested paper. It is followed by a list of citations (`CIT`), then references (`REF`).\n",
    "\n",
    "Citations are stored in two data members, `cited_by` and `cited_by_clin`. In this example, there are no clinical papers which cited the chosen paper. But we show how union can be used to merge the two sets."
   ]
  },
  {
   "cell_type": "code",
   "execution_count": 2,
   "metadata": {},
   "outputs": [],
   "source": [
    "pmid = 22882545\n",
    "pmids = [pmid]\n",
    "pmid2paper = dnldr.get_pmid2paper(pmids)\n",
    "\n",
    "paper = pmid2paper[pmid]\n",
    "\n",
    "# set of NIHiCiteEntry\n",
    "all_cites = paper.cited_by.union(paper.cited_by_clin)"
   ]
  },
  {
   "cell_type": "markdown",
   "metadata": {},
   "source": [
    "## 3) Default sort of NIHiCiteEntry objects is by PMIDs"
   ]
  },
  {
   "cell_type": "code",
   "execution_count": 3,
   "metadata": {},
   "outputs": [
    {
     "name": "stdout",
     "output_type": "stream",
     "text": [
      "24383934 R. .AM..  58 2 2014    24  0  52 au[17](Marie Louis) Habitat-driven population structure of bottlenose dolphins, Tursiops truncatus, in the North-East Atlantic.\n",
      "25052415 R. .AM..  63 2 2015    25  0  37 au[09](A E Moura) Phylogenomics of the killer whale indicates ecotype divergence in sympatry.\n",
      "25244680 R. .A...  57 2 2014    25  0  58 au[10](Andre E Moura) Population genomics of the killer whale indicates ecotype evolution in sympatry involving both selection and drift.\n",
      "25297864 R. .A...  52 2 2014    18  0  39 au[10](Marie Louis) Ecological opportunities and specializations shaped genetic divergence in a highly mobile marine top predator.\n",
      "25738698 R. .A...  27 2 2015     6  0   5 au[06](Marta Söffker) The impact of predation by marine mammals on patagonian toothfish longline fisheries.\n",
      "25883362 .. .A...  84 3 2015    47  0  85 au[02](Neil P Kelley) Vertebrate evolution. Evolutionary innovation and ecology in marine tetrapods from the Triassic to the Anthropocene.\n",
      "26937049 R. .A...  69 2 2015    20  0  34 au[04](Todd R Robeck) Comparisons of life-history parameters between free-ranging and captive killer whale (<i>Orcinus orca</i>) populations for application toward species management.\n",
      "27039511 R. .A...  61 2 2016    11  0  25 au[07](Saana Isojunno) Sperm whales reduce foraging effort during exposure to 1-2 kHz sonar and killer whale sounds.\n",
      "27147024 .. .A...   0 0 2016     0  0   2 au[01](P J Nico de Bruyn) Conservation: Debate over whale longevity is futile.\n",
      "27336480 R. .AM..  34 2 2016     9  0  75 au[05](Stefano Montelli) Back to Water: Signature of Adaptive Evolution in Cetacean Mitochondrial tRNAs.\n",
      "27804965 .. .A...   9 1 2016     3  0  15 au[02](A R Hoelzel) Killer whales differentiating in geographic sympatry facilitated by divergent behavioural traditions.\n",
      "27923044 R. .A...  45 2 2016     8  0   6 au[06](Rebecca Wellard) Killer Whale (Orcinus orca) Predation on Beaked Whales (Mesoplodon spp.) in the Bremer Sub-Basin, Western Australia.\n",
      "28371192 R. .A...  58 2 2017    15  0 121 au[03](Katherine L Moon) Reconsidering connectivity in the sub-Antarctic.\n",
      "28666015 R. .A...  38 2 2017     8  0   8 au[04](Eve Jourdain) First longitudinal study of seal-feeding killer whales (Orcinus orca) in Norwegian coastal waters.\n",
      "29272275 R. .A...  13 1 2017     2  0   8 au[04](Elizabeth Seely) Soundwatch: Eighteen years of monitoring whale watch vessel activities in the Salish Sea.\n",
      "29692289 R. .A...  24 2 2018     3  0  14 au[06](A Reckendorf) First record of Halocercus sp. (Pseudaliidae) lungworm infections in two stranded neonatal orcas (Orcinus orca).\n",
      "29876075 R. .A...  56 2 2018    10  0  30 au[02](Mauricio Cantor) Simple foraging rules in competitive environments can generate socially structured populations.\n",
      "29895580 R. .A...  39 2 2018     4  0  22 au[07](Matthew T Bowers) Selective reactions to different killer whale call categories in two delphinid species.\n",
      "30051821 R. .A...  20 2 2018     4  0  12 au[08](Ana S L Rodrigues) Forgotten Mediterranean calving grounds of grey and North Atlantic right whales: evidence from Roman archaeological records.\n",
      "30992478 RP .A...  50 2 2019     5  0  32 au[09](Salvador J Jorgensen) Killer whales redistribute white shark foraging pressure on seals.\n",
      "31120038 RP .A...  42 2 2019     3  0  14 au[08](Maíra Laeta) Osteochondromatosis (multiple cartilaginous exostoses) in an immature killer whale Orcinus orca.\n",
      "31131963 RP .AM..  64 2 2019    12  0  72 au[35](Andrew D Foote) Killer whale genomes reveal a complex history of recurrent admixture and vicariance.\n",
      "31215081 RP .A...   0 0 2019     0  0  16 au[04](Paula Sánchez-Hernández) Social interaction analysis in captive orcas (Orcinus orca).\n",
      "31230140 RP .A...  10 1 2019     1  0  36 au[12](Charlotte Curé) Evidence for discrimination between feeding sounds of familiar fish and unfamiliar mammal-eating killer whale ecotypes by long-finned pilot whales.\n",
      "31631360 .P HA...  53 2 2019     6  0  55 au[01](Jenny A Allen) Community through Culture: From Insects to Whales: How Social Learning and Culture Manifest across Diverse Animal Communities.\n",
      "33798257 R. HA...  -1 i 2021     1  0  21 au[03](Cory J D Matthews) Amino acid δ15N differences consistent with killer whale ecotypes in the Arctic and Northwest Atlantic.\n"
     ]
    }
   ],
   "source": [
    "for nih_entry in sorted(all_cites):\n",
    "    print(nih_entry)"
   ]
  },
  {
   "cell_type": "markdown",
   "metadata": {},
   "source": [
    "## 4) Sort by NIH percentile\n",
    "NIH entries that are too new to have been given a NIH percentile are set to 999 in *pmidcite*.    \n",
    "\n",
    "It is important to highlight new papers.    \n",
    "\n",
    "The 999 value makes the newest papers appear next to the papers having the highest NIH percentiles so the new papers are highlighted."
   ]
  },
  {
   "cell_type": "code",
   "execution_count": 4,
   "metadata": {},
   "outputs": [
    {
     "name": "stdout",
     "output_type": "stream",
     "text": [
      "33798257 R. HA...  -1 i 2021     1  0  21 au[03](Cory J D Matthews) Amino acid δ15N differences consistent with killer whale ecotypes in the Arctic and Northwest Atlantic.\n",
      "25883362 .. .A...  84 3 2015    47  0  85 au[02](Neil P Kelley) Vertebrate evolution. Evolutionary innovation and ecology in marine tetrapods from the Triassic to the Anthropocene.\n",
      "26937049 R. .A...  69 2 2015    20  0  34 au[04](Todd R Robeck) Comparisons of life-history parameters between free-ranging and captive killer whale (<i>Orcinus orca</i>) populations for application toward species management.\n",
      "31131963 RP .AM..  64 2 2019    12  0  72 au[35](Andrew D Foote) Killer whale genomes reveal a complex history of recurrent admixture and vicariance.\n",
      "25052415 R. .AM..  63 2 2015    25  0  37 au[09](A E Moura) Phylogenomics of the killer whale indicates ecotype divergence in sympatry.\n",
      "27039511 R. .A...  61 2 2016    11  0  25 au[07](Saana Isojunno) Sperm whales reduce foraging effort during exposure to 1-2 kHz sonar and killer whale sounds.\n",
      "28371192 R. .A...  58 2 2017    15  0 121 au[03](Katherine L Moon) Reconsidering connectivity in the sub-Antarctic.\n",
      "24383934 R. .AM..  58 2 2014    24  0  52 au[17](Marie Louis) Habitat-driven population structure of bottlenose dolphins, Tursiops truncatus, in the North-East Atlantic.\n",
      "25244680 R. .A...  57 2 2014    25  0  58 au[10](Andre E Moura) Population genomics of the killer whale indicates ecotype evolution in sympatry involving both selection and drift.\n",
      "29876075 R. .A...  56 2 2018    10  0  30 au[02](Mauricio Cantor) Simple foraging rules in competitive environments can generate socially structured populations.\n",
      "31631360 .P HA...  53 2 2019     6  0  55 au[01](Jenny A Allen) Community through Culture: From Insects to Whales: How Social Learning and Culture Manifest across Diverse Animal Communities.\n",
      "25297864 R. .A...  52 2 2014    18  0  39 au[10](Marie Louis) Ecological opportunities and specializations shaped genetic divergence in a highly mobile marine top predator.\n",
      "30992478 RP .A...  50 2 2019     5  0  32 au[09](Salvador J Jorgensen) Killer whales redistribute white shark foraging pressure on seals.\n",
      "27923044 R. .A...  45 2 2016     8  0   6 au[06](Rebecca Wellard) Killer Whale (Orcinus orca) Predation on Beaked Whales (Mesoplodon spp.) in the Bremer Sub-Basin, Western Australia.\n",
      "31120038 RP .A...  42 2 2019     3  0  14 au[08](Maíra Laeta) Osteochondromatosis (multiple cartilaginous exostoses) in an immature killer whale Orcinus orca.\n",
      "29895580 R. .A...  39 2 2018     4  0  22 au[07](Matthew T Bowers) Selective reactions to different killer whale call categories in two delphinid species.\n",
      "28666015 R. .A...  38 2 2017     8  0   8 au[04](Eve Jourdain) First longitudinal study of seal-feeding killer whales (Orcinus orca) in Norwegian coastal waters.\n",
      "27336480 R. .AM..  34 2 2016     9  0  75 au[05](Stefano Montelli) Back to Water: Signature of Adaptive Evolution in Cetacean Mitochondrial tRNAs.\n",
      "25738698 R. .A...  27 2 2015     6  0   5 au[06](Marta Söffker) The impact of predation by marine mammals on patagonian toothfish longline fisheries.\n",
      "29692289 R. .A...  24 2 2018     3  0  14 au[06](A Reckendorf) First record of Halocercus sp. (Pseudaliidae) lungworm infections in two stranded neonatal orcas (Orcinus orca).\n",
      "30051821 R. .A...  20 2 2018     4  0  12 au[08](Ana S L Rodrigues) Forgotten Mediterranean calving grounds of grey and North Atlantic right whales: evidence from Roman archaeological records.\n",
      "29272275 R. .A...  13 1 2017     2  0   8 au[04](Elizabeth Seely) Soundwatch: Eighteen years of monitoring whale watch vessel activities in the Salish Sea.\n",
      "31230140 RP .A...  10 1 2019     1  0  36 au[12](Charlotte Curé) Evidence for discrimination between feeding sounds of familiar fish and unfamiliar mammal-eating killer whale ecotypes by long-finned pilot whales.\n",
      "27804965 .. .A...   9 1 2016     3  0  15 au[02](A R Hoelzel) Killer whales differentiating in geographic sympatry facilitated by divergent behavioural traditions.\n",
      "31215081 RP .A...   0 0 2019     0  0  16 au[04](Paula Sánchez-Hernández) Social interaction analysis in captive orcas (Orcinus orca).\n",
      "27147024 .. .A...   0 0 2016     0  0   2 au[01](P J Nico de Bruyn) Conservation: Debate over whale longevity is futile.\n"
     ]
    }
   ],
   "source": [
    "for nih_entry in sorted(all_cites, key=lambda o: o.dct['nih_perc'], reverse=True):\n",
    "    print(nih_entry)"
   ]
  },
  {
   "cell_type": "markdown",
   "metadata": {},
   "source": [
    "## 5) Sort by NIH group, then by year\n",
    "This places the newest papers (NIH group `i`) first, followed by papers that perform well (NIH groups `2` and above). The lowest performing papers (NIH groups `0` and `1`) are last."
   ]
  },
  {
   "cell_type": "code",
   "execution_count": 5,
   "metadata": {},
   "outputs": [
    {
     "name": "stdout",
     "output_type": "stream",
     "text": [
      "33798257 R. HA...  -1 i 2021     1  0  21 au[03](Cory J D Matthews) Amino acid δ15N differences consistent with killer whale ecotypes in the Arctic and Northwest Atlantic.\n",
      "25883362 .. .A...  84 3 2015    47  0  85 au[02](Neil P Kelley) Vertebrate evolution. Evolutionary innovation and ecology in marine tetrapods from the Triassic to the Anthropocene.\n",
      "31120038 RP .A...  42 2 2019     3  0  14 au[08](Maíra Laeta) Osteochondromatosis (multiple cartilaginous exostoses) in an immature killer whale Orcinus orca.\n",
      "30992478 RP .A...  50 2 2019     5  0  32 au[09](Salvador J Jorgensen) Killer whales redistribute white shark foraging pressure on seals.\n",
      "31631360 .P HA...  53 2 2019     6  0  55 au[01](Jenny A Allen) Community through Culture: From Insects to Whales: How Social Learning and Culture Manifest across Diverse Animal Communities.\n",
      "31131963 RP .AM..  64 2 2019    12  0  72 au[35](Andrew D Foote) Killer whale genomes reveal a complex history of recurrent admixture and vicariance.\n",
      "29876075 R. .A...  56 2 2018    10  0  30 au[02](Mauricio Cantor) Simple foraging rules in competitive environments can generate socially structured populations.\n",
      "29692289 R. .A...  24 2 2018     3  0  14 au[06](A Reckendorf) First record of Halocercus sp. (Pseudaliidae) lungworm infections in two stranded neonatal orcas (Orcinus orca).\n",
      "29895580 R. .A...  39 2 2018     4  0  22 au[07](Matthew T Bowers) Selective reactions to different killer whale call categories in two delphinid species.\n",
      "30051821 R. .A...  20 2 2018     4  0  12 au[08](Ana S L Rodrigues) Forgotten Mediterranean calving grounds of grey and North Atlantic right whales: evidence from Roman archaeological records.\n",
      "28371192 R. .A...  58 2 2017    15  0 121 au[03](Katherine L Moon) Reconsidering connectivity in the sub-Antarctic.\n",
      "28666015 R. .A...  38 2 2017     8  0   8 au[04](Eve Jourdain) First longitudinal study of seal-feeding killer whales (Orcinus orca) in Norwegian coastal waters.\n",
      "27923044 R. .A...  45 2 2016     8  0   6 au[06](Rebecca Wellard) Killer Whale (Orcinus orca) Predation on Beaked Whales (Mesoplodon spp.) in the Bremer Sub-Basin, Western Australia.\n",
      "27039511 R. .A...  61 2 2016    11  0  25 au[07](Saana Isojunno) Sperm whales reduce foraging effort during exposure to 1-2 kHz sonar and killer whale sounds.\n",
      "27336480 R. .AM..  34 2 2016     9  0  75 au[05](Stefano Montelli) Back to Water: Signature of Adaptive Evolution in Cetacean Mitochondrial tRNAs.\n",
      "25738698 R. .A...  27 2 2015     6  0   5 au[06](Marta Söffker) The impact of predation by marine mammals on patagonian toothfish longline fisheries.\n",
      "25052415 R. .AM..  63 2 2015    25  0  37 au[09](A E Moura) Phylogenomics of the killer whale indicates ecotype divergence in sympatry.\n",
      "26937049 R. .A...  69 2 2015    20  0  34 au[04](Todd R Robeck) Comparisons of life-history parameters between free-ranging and captive killer whale (<i>Orcinus orca</i>) populations for application toward species management.\n",
      "25244680 R. .A...  57 2 2014    25  0  58 au[10](Andre E Moura) Population genomics of the killer whale indicates ecotype evolution in sympatry involving both selection and drift.\n",
      "25297864 R. .A...  52 2 2014    18  0  39 au[10](Marie Louis) Ecological opportunities and specializations shaped genetic divergence in a highly mobile marine top predator.\n",
      "24383934 R. .AM..  58 2 2014    24  0  52 au[17](Marie Louis) Habitat-driven population structure of bottlenose dolphins, Tursiops truncatus, in the North-East Atlantic.\n",
      "31230140 RP .A...  10 1 2019     1  0  36 au[12](Charlotte Curé) Evidence for discrimination between feeding sounds of familiar fish and unfamiliar mammal-eating killer whale ecotypes by long-finned pilot whales.\n",
      "29272275 R. .A...  13 1 2017     2  0   8 au[04](Elizabeth Seely) Soundwatch: Eighteen years of monitoring whale watch vessel activities in the Salish Sea.\n",
      "27804965 .. .A...   9 1 2016     3  0  15 au[02](A R Hoelzel) Killer whales differentiating in geographic sympatry facilitated by divergent behavioural traditions.\n",
      "31215081 RP .A...   0 0 2019     0  0  16 au[04](Paula Sánchez-Hernández) Social interaction analysis in captive orcas (Orcinus orca).\n",
      "27147024 .. .A...   0 0 2016     0  0   2 au[01](P J Nico de Bruyn) Conservation: Debate over whale longevity is futile.\n"
     ]
    }
   ],
   "source": [
    "nih_cites = sorted(all_cites, key=lambda o: [o.dct['nih_group'], o.dct['year']], reverse=True)\n",
    "for nih_entry in nih_cites:\n",
    "    print(nih_entry)"
   ]
  },
  {
   "cell_type": "markdown",
   "metadata": {},
   "source": [
    "## 6) Print the keys which can be used for sorting\n",
    "Pick out one NIH entry (NIHiCiteEntry object) and print available keys"
   ]
  },
  {
   "cell_type": "code",
   "execution_count": 6,
   "metadata": {},
   "outputs": [
    {
     "name": "stdout",
     "output_type": "stream",
     "text": [
      "\n",
      "31 key-value pairs in an NIH entry:\n",
      "\n",
      "                       pmid 33798257\n",
      "                       year 2021\n",
      "                      title Amino acid δ15N differences consistent with killer whale ecotypes in the Arctic and Northwest Atlantic.\n",
      "                    authors ['Cory J D Matthews', 'Jack W Lawson', 'Steven H Ferguson']\n",
      "                    journal PLoS One\n",
      "        is_research_article True\n",
      "    relative_citation_ratio None\n",
      "             nih_percentile None\n",
      "                      human 0.2\n",
      "                     animal 0.8\n",
      "         molecular_cellular 0.0\n",
      "                        apt 0.05\n",
      "                is_clinical False\n",
      "             citation_count 1\n",
      "         citations_per_year 1.0\n",
      "expected_citations_per_year 1.9875929018390903\n",
      "        field_citation_rate 2.888821105807652\n",
      "                provisional False\n",
      "                    x_coord 0.6928203230275509\n",
      "                    y_coord -0.2\n",
      "              cited_by_clin []\n",
      "                   cited_by [33762671]\n",
      "                 references [28181729, 19688941, 28307717, 32274001, 22882545, 24285394, 28168754, 25859333, 30377494, 20413674, 28554115, 25843809, 6008218, 16934324, 11778951, 19755531, 24577700, 9774274, 20050301, 22520955, 21241391]\n",
      "                        doi 10.1371/journal.pone.0249641\n",
      "                  nih_group 5\n",
      "                   num_auth 3\n",
      "                   num_clin 0\n",
      "                   num_cite 1\n",
      "              num_cites_all 1\n",
      "                   nih_perc 111\n",
      "                   num_refs 21\n"
     ]
    }
   ],
   "source": [
    "nih_entry = next(iter(nih_cites))\n",
    "print('\\n{N} key-value pairs in an NIH entry:\\n'.format(N=len(nih_entry.dct)))\n",
    "for key, value in nih_entry.dct.items():\n",
    "    print(\"{KEY:>27} {VAL}\".format(KEY=key, VAL=value))"
   ]
  },
  {
   "cell_type": "markdown",
   "metadata": {},
   "source": [
    "## 7) Expand NIH group `3` (well performing papers) to include NIH percentiles 50% or higher"
   ]
  },
  {
   "cell_type": "code",
   "execution_count": 7,
   "metadata": {},
   "outputs": [
    {
     "name": "stdout",
     "output_type": "stream",
     "text": [
      "33798257 R. HA...  -1 i 2021     1  0  21 au[03](Cory J D Matthews) Amino acid δ15N differences consistent with killer whale ecotypes in the Arctic and Northwest Atlantic.\n",
      "31631360 .P HA...  53 3 2019     6  0  55 au[01](Jenny A Allen) Community through Culture: From Insects to Whales: How Social Learning and Culture Manifest across Diverse Animal Communities.\n",
      "31131963 RP .AM..  64 3 2019    12  0  72 au[35](Andrew D Foote) Killer whale genomes reveal a complex history of recurrent admixture and vicariance.\n",
      "30992478 RP .A...  50 3 2019     5  0  32 au[09](Salvador J Jorgensen) Killer whales redistribute white shark foraging pressure on seals.\n",
      "29876075 R. .A...  56 3 2018    10  0  30 au[02](Mauricio Cantor) Simple foraging rules in competitive environments can generate socially structured populations.\n",
      "28371192 R. .A...  58 3 2017    15  0 121 au[03](Katherine L Moon) Reconsidering connectivity in the sub-Antarctic.\n",
      "27039511 R. .A...  61 3 2016    11  0  25 au[07](Saana Isojunno) Sperm whales reduce foraging effort during exposure to 1-2 kHz sonar and killer whale sounds.\n",
      "25883362 .. .A...  84 3 2015    47  0  85 au[02](Neil P Kelley) Vertebrate evolution. Evolutionary innovation and ecology in marine tetrapods from the Triassic to the Anthropocene.\n",
      "25052415 R. .AM..  63 3 2015    25  0  37 au[09](A E Moura) Phylogenomics of the killer whale indicates ecotype divergence in sympatry.\n",
      "26937049 R. .A...  69 3 2015    20  0  34 au[04](Todd R Robeck) Comparisons of life-history parameters between free-ranging and captive killer whale (<i>Orcinus orca</i>) populations for application toward species management.\n",
      "25244680 R. .A...  57 3 2014    25  0  58 au[10](Andre E Moura) Population genomics of the killer whale indicates ecotype evolution in sympatry involving both selection and drift.\n",
      "25297864 R. .A...  52 3 2014    18  0  39 au[10](Marie Louis) Ecological opportunities and specializations shaped genetic divergence in a highly mobile marine top predator.\n",
      "24383934 R. .AM..  58 3 2014    24  0  52 au[17](Marie Louis) Habitat-driven population structure of bottlenose dolphins, Tursiops truncatus, in the North-East Atlantic.\n",
      "31120038 RP .A...  42 2 2019     3  0  14 au[08](Maíra Laeta) Osteochondromatosis (multiple cartilaginous exostoses) in an immature killer whale Orcinus orca.\n",
      "29895580 R. .A...  39 2 2018     4  0  22 au[07](Matthew T Bowers) Selective reactions to different killer whale call categories in two delphinid species.\n",
      "30051821 R. .A...  20 2 2018     4  0  12 au[08](Ana S L Rodrigues) Forgotten Mediterranean calving grounds of grey and North Atlantic right whales: evidence from Roman archaeological records.\n",
      "29692289 R. .A...  24 2 2018     3  0  14 au[06](A Reckendorf) First record of Halocercus sp. (Pseudaliidae) lungworm infections in two stranded neonatal orcas (Orcinus orca).\n",
      "28666015 R. .A...  38 2 2017     8  0   8 au[04](Eve Jourdain) First longitudinal study of seal-feeding killer whales (Orcinus orca) in Norwegian coastal waters.\n",
      "27336480 R. .AM..  34 2 2016     9  0  75 au[05](Stefano Montelli) Back to Water: Signature of Adaptive Evolution in Cetacean Mitochondrial tRNAs.\n",
      "27923044 R. .A...  45 2 2016     8  0   6 au[06](Rebecca Wellard) Killer Whale (Orcinus orca) Predation on Beaked Whales (Mesoplodon spp.) in the Bremer Sub-Basin, Western Australia.\n",
      "25738698 R. .A...  27 2 2015     6  0   5 au[06](Marta Söffker) The impact of predation by marine mammals on patagonian toothfish longline fisheries.\n",
      "31230140 RP .A...  10 1 2019     1  0  36 au[12](Charlotte Curé) Evidence for discrimination between feeding sounds of familiar fish and unfamiliar mammal-eating killer whale ecotypes by long-finned pilot whales.\n",
      "29272275 R. .A...  13 1 2017     2  0   8 au[04](Elizabeth Seely) Soundwatch: Eighteen years of monitoring whale watch vessel activities in the Salish Sea.\n",
      "27804965 .. .A...   9 1 2016     3  0  15 au[02](A R Hoelzel) Killer whales differentiating in geographic sympatry facilitated by divergent behavioural traditions.\n",
      "31215081 RP .A...   0 0 2019     0  0  16 au[04](Paula Sánchez-Hernández) Social interaction analysis in captive orcas (Orcinus orca).\n",
      "27147024 .. .A...   0 0 2016     0  0   2 au[01](P J Nico de Bruyn) Conservation: Debate over whale longevity is futile.\n"
     ]
    }
   ],
   "source": [
    "from pmidcite.icite.nih_grouper import NihGrouper\n",
    "\n",
    "grpr = NihGrouper(group3_min=50.0)\n",
    "\n",
    "dnldr = get_downloader(details_cites_refs=\"citations\", nih_grouper=grpr)\n",
    "paper = dnldr.get_paper(22882545)\n",
    "\n",
    "for nihentry in sorted(paper.cited_by, key=lambda o: [o.dct['nih_group'], o.dct['year']], reverse=True):\n",
    "    print(nihentry)"
   ]
  },
  {
   "cell_type": "markdown",
   "metadata": {},
   "source": [
    "Copyright (C) 2019-present, DV Klopfenstein. All rights reserved."
   ]
  }
 ],
 "metadata": {
  "kernelspec": {
   "display_name": "Python 3",
   "language": "python",
   "name": "python3"
  },
  "language_info": {
   "codemirror_mode": {
    "name": "ipython",
    "version": 3
   },
   "file_extension": ".py",
   "mimetype": "text/x-python",
   "name": "python",
   "nbconvert_exporter": "python",
   "pygments_lexer": "ipython3",
   "version": "3.6.7"
  }
 },
 "nbformat": 4,
 "nbformat_minor": 2
}
