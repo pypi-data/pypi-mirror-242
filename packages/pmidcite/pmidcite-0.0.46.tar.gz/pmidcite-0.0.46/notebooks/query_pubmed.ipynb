{
 "cells": [
  {
   "cell_type": "markdown",
   "metadata": {},
   "source": [
    "# Query PubMed\n",
    "You will need to either set your email, apikey, and tool in the `.pmidciterc` file to query and download publication data from PubMed.\n",
    "\n",
    "See how to get an NCBI API key here:\n",
    "https://ncbiinsights.ncbi.nlm.nih.gov/2017/11/02/new-api-keys-for-the-e-utilities"
   ]
  },
  {
   "cell_type": "code",
   "execution_count": 1,
   "metadata": {
    "scrolled": true
   },
   "outputs": [
    {
     "name": "stdout",
     "output_type": "stream",
     "text": [
      "  READ: .pmidciterc\n"
     ]
    }
   ],
   "source": [
    "from pmidcite.cfg import Cfg\n",
    "from pmidcite.eutils.cmds.pubmed import PubMed\n",
    "\n",
    "cfg = Cfg(prt_fullname=False)"
   ]
  },
  {
   "cell_type": "markdown",
   "metadata": {},
   "source": [
    "## Instantiate a PubMed object"
   ]
  },
  {
   "cell_type": "code",
   "execution_count": 2,
   "metadata": {},
   "outputs": [],
   "source": [
    "pmobj = PubMed(\n",
    "    email=cfg.get_email(),\n",
    "    apikey=cfg.get_apikey(),\n",
    "    tool=cfg.get_tool())"
   ]
  },
  {
   "cell_type": "markdown",
   "metadata": {},
   "source": [
    "## Query PubMed, download PMIDs"
   ]
  },
  {
   "cell_type": "code",
   "execution_count": 3,
   "metadata": {},
   "outputs": [
    {
     "name": "stdout",
     "output_type": "stream",
     "text": [
      "     3 IDs FOR pubmed QUERY(Orcinus Orca Type D)\n"
     ]
    }
   ],
   "source": [
    "pubmed_query = 'Orcinus Orca Type D'\n",
    "pmids = pmobj.dnld_query_pmids(pubmed_query)"
   ]
  },
  {
   "cell_type": "markdown",
   "metadata": {},
   "source": [
    "## Print NIH citation data for the papers"
   ]
  },
  {
   "cell_type": "code",
   "execution_count": 4,
   "metadata": {},
   "outputs": [
    {
     "name": "stdout",
     "output_type": "stream",
     "text": [
      "31461780 R. .A...  -1 i 2020     1  0   0 au[06](Robert L Pitman) Enigmatic megafauna: type D killer whale in the Southern Ocean.\n",
      "22882545 .. .A...  58 2 2013    26  0  24 au[03](P J N de Bruyn) Killer whale ecotypes: is there a global model?\n",
      "20050301 R. .A...  72 2 2009    53  0  25 au[05](Andrew D Foote) Ecological, morphological and genetic divergence of sympatric North Atlantic killer whale populations.\n"
     ]
    }
   ],
   "source": [
    "from pmidcite.icite.downloader import get_downloader\n",
    "\n",
    "dnldr = get_downloader()\n",
    "pmid2paper = dnldr.get_pmid2paper(pmids)\n",
    "for paper in pmid2paper.values():\n",
    "    print(paper)"
   ]
  },
  {
   "cell_type": "markdown",
   "metadata": {},
   "source": [
    "## Download the PubMed abstract\n",
    "Download the PubMed abstract for the newest paper"
   ]
  },
  {
   "cell_type": "code",
   "execution_count": 5,
   "metadata": {},
   "outputs": [
    {
     "name": "stdout",
     "output_type": "stream",
     "text": [
      "20050301 R. .A...  72 2 2009    53  0  25 au[05](Andrew D Foote) Ecological, morphological and genetic divergence of sympatric North Atlantic killer whale populations.\n"
     ]
    }
   ],
   "source": [
    "paper_chosen = sorted(pmid2paper.values(), key=lambda o: o.icite.dct['year'])[0]\n",
    "print(paper_chosen)"
   ]
  },
  {
   "cell_type": "code",
   "execution_count": 6,
   "metadata": {},
   "outputs": [
    {
     "name": "stdout",
     "output_type": "stream",
     "text": [
      "epost webenv: MCID_612d3ffa1bf20c6b7b45f81f\n",
      "epost querykey(     1) ids[1]=20050301\n",
      "  WROTE: ./pubmed_20050301.txt\n"
     ]
    }
   ],
   "source": [
    "force_download = False\n",
    "pmid2nt = pmobj.dnld_wr1_per_pmid([paper_chosen.pmid], force_download, dir_pubmed_txt=\".\")"
   ]
  },
  {
   "cell_type": "code",
   "execution_count": 7,
   "metadata": {},
   "outputs": [
    {
     "name": "stdout",
     "output_type": "stream",
     "text": [
      "20050301 Nt(PMID=20050301, file_pubmed='./pubmed_20050301.txt', file_exists=False, download=True)\n"
     ]
    }
   ],
   "source": [
    "for pmid, data in pmid2nt.items():\n",
    "    print(pmid, data)"
   ]
  },
  {
   "cell_type": "code",
   "execution_count": 8,
   "metadata": {},
   "outputs": [
    {
     "name": "stdout",
     "output_type": "stream",
     "text": [
      "\r\n",
      "PMID- 20050301\r\n",
      "OWN - NLM\r\n",
      "STAT- MEDLINE\r\n",
      "DCOM- 20100201\r\n",
      "LR  - 20190917\r\n",
      "IS  - 1365-294X (Electronic)\r\n",
      "IS  - 0962-1083 (Linking)\r\n",
      "VI  - 18\r\n",
      "IP  - 24\r\n",
      "DP  - 2009 Dec\r\n",
      "TI  - Ecological, morphological and genetic divergence of sympatric North Atlantic\r\n",
      "      killer whale populations.\r\n",
      "PG  - 5207-17\r\n",
      "AB  - Ecological divergence has a central role in speciation and is therefore an\r\n",
      "      important source of biodiversity. Studying the micro-evolutionary processes of\r\n",
      "      ecological diversification at its early stages provides an opportunity for\r\n",
      "      investigating the causative mechanisms and ecological conditions promoting\r\n",
      "      divergence. Here we use morphological traits, nitrogen stable isotope ratios and \r\n",
      "      tooth wear to characterize two disparate types of North Atlantic killer whale. We\r\n",
      "      find a highly specialist type, which reaches up to 8.5 m in length and a\r\n",
      "      generalist type which reaches up to 6.6 m in length. There is a single fixed\r\n",
      "      genetic difference in the mtDNA control region between these types, indicating\r\n",
      "      integrity of groupings and a shallow divergence. Phylogenetic analysis indicates \r\n",
      "      this divergence is independent of similar ecological divergences in the Pacific\r\n",
      "      and Antarctic. Niche-width in the generalist type is more strongly influenced by \r\n",
      "      between-individual variation rather than within-individual variation in the\r\n",
      "      composition of the diet. This first step to divergent specialization on different\r\n",
      "      ecological resources provides a rare example of the ecological conditions at the \r\n",
      "      early stages of adaptive radiation.\r\n",
      "FAU - Foote, Andrew D\r\n",
      "AU  - Foote AD\r\n",
      "AD  - Institute of Biological and Environmental Sciences, University of Aberdeen,\r\n",
      "      Cromarty, UK. a.d.foote@abdn.ac.uk\r\n",
      "FAU - Newton, Jason\r\n",
      "AU  - Newton J\r\n",
      "FAU - Piertney, Stuart B\r\n",
      "AU  - Piertney SB\r\n",
      "FAU - Willerslev, Eske\r\n",
      "AU  - Willerslev E\r\n",
      "FAU - Gilbert, M Thomas P\r\n",
      "AU  - Gilbert MT\r\n",
      "LA  - eng\r\n",
      "PT  - Journal Article\r\n",
      "PT  - Research Support, Non-U.S. Gov't\r\n",
      "PL  - England\r\n",
      "TA  - Mol Ecol\r\n",
      "JT  - Molecular ecology\r\n",
      "JID - 9214478\r\n",
      "RN  - 0 (DNA, Mitochondrial)\r\n",
      "RN  - 0 (Nitrogen Isotopes)\r\n",
      "SB  - IM\r\n",
      "MH  - Animals\r\n",
      "MH  - Bayes Theorem\r\n",
      "MH  - DNA, Mitochondrial/genetics\r\n",
      "MH  - Ecosystem\r\n",
      "MH  - *Evolution, Molecular\r\n",
      "MH  - *Genetics, Population\r\n",
      "MH  - Likelihood Functions\r\n",
      "MH  - Nitrogen Isotopes/analysis\r\n",
      "MH  - Phylogeny\r\n",
      "MH  - Sequence Analysis, DNA\r\n",
      "MH  - Tooth Wear\r\n",
      "MH  - Whale, Killer/anatomy & histology/*genetics/metabolism\r\n",
      "EDAT- 2010/01/06 06:00\r\n",
      "MHDA- 2010/02/02 06:00\r\n",
      "CRDT- 2010/01/06 06:00\r\n",
      "PHST- 2010/01/06 06:00 [entrez]\r\n",
      "PHST- 2010/01/06 06:00 [pubmed]\r\n",
      "PHST- 2010/02/02 06:00 [medline]\r\n",
      "AID - 10.1111/j.1365-294x.2009.04407.x [doi]\r\n",
      "PST - ppublish\r\n",
      "SO  - Mol Ecol. 2009 Dec;18(24):5207-17. doi: 10.1111/j.1365-294x.2009.04407.x.\r\n"
     ]
    }
   ],
   "source": [
    "file_pubmed = './pubmed_{PMID}.txt'.format(PMID=paper_chosen.pmid)\n",
    "!cat $file_pubmed"
   ]
  },
  {
   "cell_type": "markdown",
   "metadata": {},
   "source": [
    "Copyright (C) 2019-present, DV Klopfenstein. All rights reserved."
   ]
  }
 ],
 "metadata": {
  "kernelspec": {
   "display_name": "Python 3",
   "language": "python",
   "name": "python3"
  },
  "language_info": {
   "codemirror_mode": {
    "name": "ipython",
    "version": 3
   },
   "file_extension": ".py",
   "mimetype": "text/x-python",
   "name": "python",
   "nbconvert_exporter": "python",
   "pygments_lexer": "ipython3",
   "version": "3.6.7"
  }
 },
 "nbformat": 4,
 "nbformat_minor": 2
}
