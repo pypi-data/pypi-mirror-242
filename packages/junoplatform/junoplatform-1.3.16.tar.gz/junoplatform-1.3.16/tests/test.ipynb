{
 "cells": [
  {
   "cell_type": "code",
   "execution_count": 1,
   "metadata": {},
   "outputs": [],
   "source": [
    "import redis\n",
    "\n",
    "cli = redis.Redis.from_url(\"redis://:myredis@192.168.101.158\")"
   ]
  },
  {
   "cell_type": "code",
   "execution_count": null,
   "metadata": {},
   "outputs": [],
   "source": []
  },
  {
   "cell_type": "code",
   "execution_count": 9,
   "metadata": {},
   "outputs": [
    {
     "name": "stdout",
     "output_type": "stream",
     "text": [
      "[7.5]\n"
     ]
    }
   ],
   "source": [
    "import json\n",
    "config_AO_DN = storage.local.io.hget('system.ai.modules', 'wczd.AO_DN')\n",
    "\n",
    "TN_target = None\n",
    "\n",
    "if config_AO_DN is None:\n",
    "    errmsg = \"read config from wczd.AO_DN failed\"\n",
    "    #logging.error(errmsg)\n",
    "    raise Exception(errmsg)\n",
    "else:\n",
    "    TN_target = json.loads(config_AO_DN)[\"config\"][\"TN_target\"]\n",
    "    print(TN_target)\n"
   ]
  },
  {
   "cell_type": "code",
   "execution_count": 2,
   "metadata": {},
   "outputs": [],
   "source": [
    "import requests\n",
    "import logging\n",
    "import json"
   ]
  },
  {
   "cell_type": "code",
   "execution_count": 10,
   "metadata": {},
   "outputs": [
    {
     "name": "stdout",
     "output_type": "stream",
     "text": [
      "write opc success: [{'key': 'aa', 'value': 1.0}]\n"
     ]
    }
   ],
   "source": [
    "api='http://localhost:8888/api/write'\n",
    "data = [{'key': 'aa', 'value': 1.0}]\n",
    "\n",
    "try:\n",
    "    newdata = {\n",
    "        \"batch\": True,\n",
    "        \"data\": data\n",
    "    }\n",
    "    \n",
    "    r = requests.post(api, json=newdata, timeout=5)\n",
    "    if r.status_code != 200:\n",
    "        logging.error(r.text)\n",
    "    \n",
    "    print(f\"write opc success: {data}\")\n",
    "except Exception as e:\n",
    "    logging.error(str(e))\n",
    "    raise e"
   ]
  },
  {
   "cell_type": "code",
   "execution_count": 23,
   "metadata": {},
   "outputs": [],
   "source": [
    "import redis\n",
    "\n",
    "cli = redis.Redis.from_url(\"redis://:myredis@192.168.101.158\")"
   ]
  },
  {
   "cell_type": "code",
   "execution_count": 31,
   "metadata": {},
   "outputs": [
    {
     "data": {
      "text/plain": [
       "1"
      ]
     },
     "execution_count": 31,
     "metadata": {},
     "output_type": "execute_result"
    }
   ],
   "source": [
    "cli.delete(\"system.ai.abnormal.confirm.yudai.TEST\")"
   ]
  },
  {
   "cell_type": "code",
   "execution_count": 69,
   "metadata": {},
   "outputs": [
    {
     "data": {
      "text/plain": [
       "[b'{\"COD2\": 1, \"_time_\": \"2023/11/23 14:07:20\"}',\n",
       " b'{\"COD2\": 1, \"_time_\": \"2023/11/23 14:11:20\"}']"
      ]
     },
     "execution_count": 69,
     "metadata": {},
     "output_type": "execute_result"
    }
   ],
   "source": [
    "cli.lrange(\"system.ai.abnormal.confirm.yudai.TEST\",0,-1)"
   ]
  },
  {
   "cell_type": "code",
   "execution_count": 4,
   "metadata": {},
   "outputs": [
    {
     "name": "stdout",
     "output_type": "stream",
     "text": [
      "[[1, 2], [0, 0], [1, 0], [0, 1]]\n"
     ]
    }
   ],
   "source": [
    "with open(\"ab_detect.mock.json\", 'r') as f:\n",
    "    x = json.load(f)\n",
    "    print(x)"
   ]
  }
 ],
 "metadata": {
  "kernelspec": {
   "display_name": "Python 3",
   "language": "python",
   "name": "python3"
  },
  "language_info": {
   "codemirror_mode": {
    "name": "ipython",
    "version": 3
   },
   "file_extension": ".py",
   "mimetype": "text/x-python",
   "name": "python",
   "nbconvert_exporter": "python",
   "pygments_lexer": "ipython3",
   "version": "3.11.6"
  }
 },
 "nbformat": 4,
 "nbformat_minor": 2
}
