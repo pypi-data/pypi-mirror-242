{
 "cells": [
  {
   "cell_type": "code",
   "execution_count": 1,
   "metadata": {},
   "outputs": [
    {
     "name": "stderr",
     "output_type": "stream",
     "text": [
      "/Users/danielvilasuero/Library/Caches/pypoetry/virtualenvs/rlxf-3J6KC4no-py3.11/lib/python3.11/site-packages/tqdm/auto.py:21: TqdmWarning: IProgress not found. Please update jupyter and ipywidgets. See https://ipywidgets.readthedocs.io/en/stable/user_install.html\n",
      "  from .autonotebook import tqdm as notebook_tqdm\n",
      "Map:   0%|          | 0/1 [00:00<?, ? examples/s]The attention mask and the pad token id were not set. As a consequence, you may observe unexpected behavior. Please pass your input's `attention_mask` to obtain reliable results.\n",
      "Setting `pad_token_id` to `eos_token_id`:50256 for open-end generation.\n",
      "Map: 100%|██████████| 1/1 [00:03<00:00,  3.69s/ examples]\n",
      "Map: 100%|██████████| 1/1 [00:09<00:00,  9.82s/ examples]"
     ]
    },
    {
     "name": "stdout",
     "output_type": "stream",
     "text": [
      "[{'question_name': 'rating_0', 'value': 1, 'agent': 'gpt-4'}, {'question_name': 'rationale_0', 'value': 'The text is severely incorrect. It does not fulfill the task objective of writing an email for B2B marketing. The text is a random collection of words and phrases, making it incomprehensible and uninformative.', 'agent': 'gpt-4'}, {'question_name': 'rating_1', 'value': 1, 'agent': 'gpt-4'}, {'question_name': 'rationale_1', 'value': 'The text is severely incorrect. It does not fulfill the task objective of writing an email for B2B marketing. The text is a random collection of words and phrases, making it incomprehensible and uninformative.', 'agent': 'gpt-4'}]\n"
     ]
    },
    {
     "name": "stderr",
     "output_type": "stream",
     "text": [
      "\n"
     ]
    }
   ],
   "source": [
    "\n",
    "import os\n",
    "\n",
    "from rlxf.preference_dataset import PreferenceDataset\n",
    "from rlxf.llm import LLM\n",
    "\n",
    "from datasets import Dataset\n",
    "from transformers import AutoTokenizer, AutoModelForCausalLM\n",
    "\n",
    "# Instantiate the tokenizer and model\n",
    "tokenizer = AutoTokenizer.from_pretrained(\"sshleifer/tiny-gpt2\")\n",
    "model = AutoModelForCausalLM.from_pretrained(\"sshleifer/tiny-gpt2\")\n",
    "#tokenizer = AutoTokenizer.from_pretrained(\"PY007/TinyLlama-1.1B-Chat-v0.3\")\n",
    "#model = AutoModelForCausalLM.from_pretrained(\"PY007/TinyLlama-1.1B-Chat-v0.3\")\n",
    "\n",
    "# Create a dataset\n",
    "dataset = Dataset.from_dict(\n",
    "    {\"text\": [\n",
    "        \"Write an email for B2B marketing: ##EMAIL: \", \n",
    "       # \"What is the name of the capital of France? \",\n",
    "    ]}\n",
    ")\n",
    "\n",
    "# Configure the LLM\n",
    "llm = LLM(model=model, tokenizer=tokenizer, num_responses=2)\n",
    "\n",
    "preference_dataset = PreferenceDataset(dataset, llm=llm)\n",
    "\n",
    "# Execute methods for the PreferenceDataset\n",
    "rated_dataset = preference_dataset.generate()\n",
    "\n",
    "rg_dataset = preference_dataset.to_argilla()"
   ]
  },
  {
   "cell_type": "code",
   "execution_count": 2,
   "metadata": {},
   "outputs": [
    {
     "name": "stderr",
     "output_type": "stream",
     "text": [
      "/Users/danielvilasuero/Library/Caches/pypoetry/virtualenvs/rlxf-3J6KC4no-py3.11/lib/python3.11/site-packages/argilla/client/client.py:165: UserWarning: No workspace configuration was detected. To work with Argilla datasets, specify a valid workspace name on `rg.init` or set it up through the `rg.set_workspace` function.\n",
      "  warnings.warn(\n",
      "Pushing records to Argilla...: 100%|██████████| 1/1 [00:00<00:00,  1.59it/s]\n"
     ]
    },
    {
     "data": {
      "text/plain": [
       "<FeedbackDataset id=36d66895-e4e7-429f-8826-012faa15a2d3 name=rlfx-demo workspace=Workspace(id=864f1f19-079d-4a75-84bc-f6504465b7a5, name=admin, inserted_at=2023-10-15 05:02:29, updated_at=2023-10-15 05:02:29) url=https://argilla-metadata.hf.space/dataset/36d66895-e4e7-429f-8826-012faa15a2d3/annotation-mode fields=[TextField(id=UUID('8c40631e-0b8a-48ec-af4e-7cc603db8afe'), name='input', title='Input', required=True, type='text', settings={'type': 'text', 'use_markdown': False}, use_markdown=False), TextField(id=UUID('e8cca350-b162-4dcc-9f8e-200c4ea9c6ed'), name='response_0', title='Response_0', required=True, type='text', settings={'type': 'text', 'use_markdown': True}, use_markdown=True), TextField(id=UUID('4589a2c6-89fc-4f43-bdc7-050eea983351'), name='response_1', title='Response_1', required=True, type='text', settings={'type': 'text', 'use_markdown': True}, use_markdown=True)] questions=[RatingQuestion(id=UUID('fda7b156-006a-42dc-a2d0-328dc207e9da'), name='rating_0', title='Rate the response_0?', description=None, required=True, type='rating', settings={'type': 'rating', 'options': [{'value': 1}, {'value': 2}, {'value': 3}, {'value': 4}, {'value': 5}]}, values=[1, 2, 3, 4, 5]), TextQuestion(id=UUID('e8c15d99-b062-4f21-bcbb-e28446658f5a'), name='rationale_0', title=\"Rationale behind response_0's rating?\", description=None, required=True, type='text', settings={'type': 'text', 'use_markdown': False}, use_markdown=False), RatingQuestion(id=UUID('1f8dd292-5ab1-4452-9751-61f3ee402198'), name='rating_1', title='Rate the response_1?', description=None, required=True, type='rating', settings={'type': 'rating', 'options': [{'value': 1}, {'value': 2}, {'value': 3}, {'value': 4}, {'value': 5}]}, values=[1, 2, 3, 4, 5]), TextQuestion(id=UUID('15ec46ed-3254-4bdf-91cf-3c9540d42258'), name='rationale_1', title=\"Rationale behind response_1's rating?\", description=None, required=True, type='text', settings={'type': 'text', 'use_markdown': False}, use_markdown=False)] guidelines=None>"
      ]
     },
     "execution_count": 2,
     "metadata": {},
     "output_type": "execute_result"
    }
   ],
   "source": [
    "import argilla as rg\n",
    "\n",
    "rg.init(\n",
    "    api_key=\"admin.apikey\",\n",
    "    api_url=\"https://argilla-metadata.hf.space\"\n",
    ")\n",
    "rg_dataset.push_to_argilla(name=\"rlfx-demo\", workspace=\"admin\")"
   ]
  },
  {
   "cell_type": "code",
   "execution_count": 3,
   "metadata": {},
   "outputs": [
    {
     "data": {
      "text/plain": [
       "array([{'rating': '1', 'rationale': 'The text is severely incorrect. It does not provide any useful or relevant information in response to the task instruction. It seems to be a random collection of words and phrases, which makes it incomprehensible and uninformative.'},\n",
       "       {'rating': '1', 'rationale': 'The text is severely incorrect. Similar to Text 1, it does not provide any useful or relevant information in response to the task instruction. It appears to be a random collection of words and phrases, making it incomprehensible and uninformative.'}],\n",
       "      dtype=object)"
      ]
     },
     "execution_count": 3,
     "metadata": {},
     "output_type": "execute_result"
    }
   ],
   "source": [
    "rated_dataset.to_pandas().rated_responses[1]"
   ]
  },
  {
   "cell_type": "code",
   "execution_count": null,
   "metadata": {},
   "outputs": [],
   "source": []
  }
 ],
 "metadata": {
  "kernelspec": {
   "display_name": "Python 3",
   "language": "python",
   "name": "python3"
  },
  "language_info": {
   "codemirror_mode": {
    "name": "ipython",
    "version": 3
   },
   "file_extension": ".py",
   "mimetype": "text/x-python",
   "name": "python",
   "nbconvert_exporter": "python",
   "pygments_lexer": "ipython3",
   "version": "3.11.6"
  },
  "orig_nbformat": 4
 },
 "nbformat": 4,
 "nbformat_minor": 2
}
