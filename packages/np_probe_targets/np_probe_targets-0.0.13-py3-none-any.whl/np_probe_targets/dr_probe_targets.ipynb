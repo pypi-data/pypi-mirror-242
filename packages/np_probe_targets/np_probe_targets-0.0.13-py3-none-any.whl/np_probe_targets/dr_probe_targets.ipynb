{
 "cells": [
  {
   "cell_type": "code",
   "execution_count": 1,
   "metadata": {},
   "outputs": [],
   "source": [
    "%load_ext autoreload\n",
    "%autoreload 2\n",
    "from np_probe_targets.implant_drawing import *"
   ]
  },
  {
   "cell_type": "markdown",
   "metadata": {},
   "source": [
    "# This week's DR targets\n",
    "- double-check the date! \n",
    "\n",
    "\n",
    "- adjust each probe to the implant hole it actually hit, or move slider to left for 'none'\n",
    "- colors show alternative holes for each probe\n",
    "- press save when finished!"
   ]
  },
  {
   "cell_type": "code",
   "execution_count": 2,
   "metadata": {},
   "outputs": [
    {
     "data": {
      "application/vnd.jupyter.widget-view+json": {
       "model_id": "1a37fdb1a5fc4b0aae396486bfca4d3d",
       "version_major": 2,
       "version_minor": 0
      },
      "text/plain": [
       "ProbeTargetInsertionRecordWidget(children=(Output(), VBox(children=(HBox(children=(VBox(children=(SelectionSli…"
      ]
     },
     "metadata": {},
     "output_type": "display_data"
    }
   ],
   "source": [
    "import pathlib\n",
    "targets = ProbeInsertionsTS5(hole_labels=[None]*6)\n",
    "targets.save_dir = pathlib.Path('//allen/programs/mindscope/workgroups/dynamicrouting/ben')\n",
    "display(ProbeTargetInsertionRecordWidget(targets))"
   ]
  },
  {
   "cell_type": "code",
   "execution_count": 4,
   "metadata": {},
   "outputs": [
    {
     "data": {
      "application/vnd.jupyter.widget-view+json": {
       "model_id": "6c999ea52c2f4998a1aae5490be68d77",
       "version_major": 2,
       "version_minor": 0
      },
      "text/plain": [
       "ProbeTargetInsertionRecordWidget(children=(Output(), VBox(children=(HBox(children=(VBox(children=(SelectionSli…"
      ]
     },
     "metadata": {},
     "output_type": "display_data"
    }
   ],
   "source": [
    "import pathlib, IPython.display\n",
    "combo1 = ProbeInsertionsTempleton({\n",
    "    'A':'A1',\n",
    "    'B':'B1', # or B3\n",
    "    'C':'C2',\n",
    "    'D': None,\n",
    "    'E': None,\n",
    "    'F':'F1',\n",
    "    }\n",
    ")\n",
    "\n",
    "combo2 = ProbeInsertionsTempleton({\n",
    "    'A':'A2', # or A3\n",
    "    'B':'B2',\n",
    "    'C':'C1', # or C4\n",
    "    'D': 'D1',\n",
    "    'E': None,\n",
    "    'F':'F2',\n",
    "    }\n",
    ")\n",
    "    \n",
    "targets = combo2\n",
    "targets.save_dir = pathlib.Path('//allen/programs/mindscope/workgroups/dynamicrouting/ben')\n",
    "IPython.display.display(ProbeTargetInsertionRecordWidget(targets, implant_drawing=TempletonDrawingSVGComboColormap, current_insertion_group=ProbeInsertionsTempleton))"
   ]
  },
  {
   "cell_type": "code",
   "execution_count": 3,
   "metadata": {},
   "outputs": [
    {
     "data": {
      "application/vnd.jupyter.widget-view+json": {
       "model_id": "7261526a779e426899135da975102c4b",
       "version_major": 2,
       "version_minor": 0
      },
      "text/plain": [
       "DRWeeklyTargets(children=(ProbeTargetInsertionRecordWidget(children=(Output(), VBox(children=(HBox(children=(V…"
      ]
     },
     "execution_count": 3,
     "metadata": {},
     "output_type": "execute_result"
    }
   ],
   "source": [
    "DRWeeklyTargets(1)"
   ]
  },
  {
   "cell_type": "code",
   "execution_count": null,
   "metadata": {
    "scrolled": false
   },
   "outputs": [],
   "source": [
    "CurrentWeek.display()\n",
    "DRWeeklyTargets()"
   ]
  },
  {
   "cell_type": "code",
   "execution_count": 3,
   "metadata": {},
   "outputs": [
    {
     "data": {
      "application/vnd.jupyter.widget-view+json": {
       "model_id": "15a9598271304204bba1992dd7b0a257",
       "version_major": 2,
       "version_minor": 0
      },
      "text/plain": [
       "ProbeTargetInsertionRecordWidget(children=(Output(), VBox(children=(HBox(children=(VBox(children=(SelectionSli…"
      ]
     },
     "execution_count": 3,
     "metadata": {},
     "output_type": "execute_result"
    }
   ],
   "source": [
    "get_target_widget('2005')"
   ]
  },
  {
   "cell_type": "markdown",
   "metadata": {},
   "source": [
    "### For reference "
   ]
  },
  {
   "cell_type": "code",
   "execution_count": 5,
   "metadata": {},
   "outputs": [
    {
     "ename": "AttributeError",
     "evalue": "type object 'TS5DrawingSVG' has no attribute 'svg_data'",
     "output_type": "error",
     "traceback": [
      "\u001b[1;31m---------------------------------------------------------------------------\u001b[0m",
      "\u001b[1;31mAttributeError\u001b[0m                            Traceback (most recent call last)",
      "\u001b[1;32m~\\AppData\\Local\\Temp\\ipykernel_37768\\3236746903.py\u001b[0m in \u001b[0;36m<cell line: 1>\u001b[1;34m()\u001b[0m\n\u001b[1;32m----> 1\u001b[1;33m \u001b[0mIPython\u001b[0m\u001b[1;33m.\u001b[0m\u001b[0mdisplay\u001b[0m\u001b[1;33m.\u001b[0m\u001b[0mSVG\u001b[0m\u001b[1;33m(\u001b[0m\u001b[0mTS5DrawingSVG\u001b[0m\u001b[1;33m.\u001b[0m\u001b[0msvg_data\u001b[0m\u001b[1;33m)\u001b[0m\u001b[1;33m\u001b[0m\u001b[1;33m\u001b[0m\u001b[0m\n\u001b[0m",
      "\u001b[1;31mAttributeError\u001b[0m: type object 'TS5DrawingSVG' has no attribute 'svg_data'"
     ]
    }
   ],
   "source": [
    "IPython.display.SVG(TS5DrawingSVG.svg_data)"
   ]
  },
  {
   "cell_type": "code",
   "execution_count": null,
   "metadata": {},
   "outputs": [],
   "source": [
    "ProbeTargetsFromPlanTS5(week=1, day=2)"
   ]
  },
  {
   "cell_type": "markdown",
   "metadata": {},
   "source": [
    "# Visualise targets for a specific week / day\n",
    "- modify `week` below and run the cell \n",
    "- the next production experiment will use targets for `week = 4`"
   ]
  },
  {
   "cell_type": "code",
   "execution_count": null,
   "metadata": {
    "scrolled": false
   },
   "outputs": [],
   "source": [
    "DRWeeklyTargetsViewOnly(week=4)"
   ]
  },
  {
   "cell_type": "code",
   "execution_count": null,
   "metadata": {},
   "outputs": [],
   "source": []
  }
 ],
 "metadata": {
  "kernelspec": {
   "display_name": "Python 3.7.9 ('.venv': poetry)",
   "language": "python",
   "name": "python3"
  },
  "language_info": {
   "codemirror_mode": {
    "name": "ipython",
    "version": 3
   },
   "file_extension": ".py",
   "mimetype": "text/x-python",
   "name": "python",
   "nbconvert_exporter": "python",
   "pygments_lexer": "ipython3",
   "version": "3.8.10"
  },
  "vscode": {
   "interpreter": {
    "hash": "eabf272d592dc72210ccb4ff50c5fd36565afd8b8f495091911c4554fbbd732c"
   }
  }
 },
 "nbformat": 4,
 "nbformat_minor": 2
}
