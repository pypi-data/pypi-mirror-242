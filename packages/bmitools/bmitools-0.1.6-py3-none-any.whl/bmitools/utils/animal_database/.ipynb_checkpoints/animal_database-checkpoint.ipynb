{
 "cells": [
  {
   "cell_type": "code",
   "execution_count": 1,
   "id": "f84eecc1",
   "metadata": {},
   "outputs": [
    {
     "data": {
      "application/javascript": [
       "IPython.notebook.set_autosave_interval(180000)"
      ]
     },
     "metadata": {},
     "output_type": "display_data"
    },
    {
     "name": "stdout",
     "output_type": "stream",
     "text": [
      "Autosaving every 180 seconds\n"
     ]
    },
    {
     "data": {
      "text/html": [
       "<style>.container { width:100% !important; }</style>"
      ],
      "text/plain": [
       "<IPython.core.display.HTML object>"
      ]
     },
     "metadata": {},
     "output_type": "display_data"
    },
    {
     "name": "stderr",
     "output_type": "stream",
     "text": [
      "/tmp/ipykernel_438196/874771987.py:21: FutureWarning: Passing a negative integer is deprecated in version 1.0 and will not be supported in future version. Instead, use None to not limit the column width.\n",
      "  pd.set_option('display.max_colwidth', -1)\n"
     ]
    }
   ],
   "source": [
    "import matplotlib\n",
    "%matplotlib tk\n",
    "%autosave 180\n",
    "%load_ext autoreload\n",
    "%autoreload 2\n",
    "\n",
    "import nest_asyncio\n",
    "%config Completer.use_jedi = False\n",
    "\n",
    "#\n",
    "import matplotlib.pyplot as plt\n",
    "from IPython.core.display import display, HTML\n",
    "display(HTML(\"<style>.container { width:100% !important; }</style>\"))\n",
    "\n",
    "import scipy\n",
    "import numpy as np\n",
    "import pandas as pd\n",
    "pd.set_option('display.max_rows', None)\n",
    "pd.set_option('display.max_columns', None)\n",
    "pd.set_option('display.width', None)\n",
    "pd.set_option('display.max_colwidth', -1)\n",
    "\n",
    "\n",
    "import os\n",
    "os.chdir('/home/cat/code/manifolds/')\n",
    "\n",
    "from calcium import calcium\n",
    "from wheel import wheel\n",
    "from visualize import visualize\n",
    "from tqdm import trange\n",
    "\n",
    "\n",
    "from scipy.io import loadmat\n",
    "\n",
    "import umap\n",
    "\n",
    "from sklearn.decomposition import PCA\n",
    "import plotly.express as px\n",
    "from plotly.subplots import make_subplots\n",
    "import plotly.graph_objects as go\n",
    "from scipy import stats\n",
    "\n",
    "#\n",
    "\n",
    "# \n",
    "np.set_printoptions(suppress=True)"
   ]
  },
  {
   "cell_type": "code",
   "execution_count": 8,
   "id": "9b8aa743",
   "metadata": {
    "scrolled": false
   },
   "outputs": [
    {
     "name": "stdout",
     "output_type": "stream",
     "text": [
      "DF:       Mouse_id   Birth  Injected_on  First_imaging_session  \\\n",
      "0  DON-002865  200620  200728       200912                  \n",
      "1  DON-003165  200731  201012       201218                  \n",
      "2  DON-003343  200826  201014       210213                  \n",
      "3  DON-006084  210430  210502       210519                  \n",
      "4  DON-006085  210430  210502       210519                  \n",
      "5  DON-006087  210430  210502       210524                  \n",
      "\n",
      "   Last_imaging_session      #_of_sessions   Group  Suite2p_Processing  \\\n",
      "0  201121                19 (before wheel)  Adult   1                    \n",
      "1  210118                6 (before wheel)   Adult   1                    \n",
      "2  210303                0 (before wheel)   Adult   1                    \n",
      "3  210528                10 (on wheel)      Infant  1                    \n",
      "4  210528                10 (on wheel)      Infant  1                    \n",
      "5  210602                10 (on wheel)      Infant  1                    \n",
      "\n",
      "   Suite2p_Curation                                       Comments  \\\n",
      "0  0                 was trained on the treadmill before the wheel   \n",
      "1  0                 was trained on the treadmill before the wheel   \n",
      "2  0                 was trained on the treadmill before the wheel   \n",
      "3  0                 naïve animal                                    \n",
      "4  0                 naïve animal                                    \n",
      "5  0                 naïve animal                                    \n",
      "\n",
      "   Pday_start  Pday_end  \\\n",
      "0  90          99         \n",
      "1  120         129        \n",
      "2  150         159        \n",
      "3  19          28         \n",
      "4  19          28         \n",
      "5  24          33         \n",
      "\n",
      "                                                                                                                                                                                                        Session_ids  \n",
      "0  DON-002865_20210210, DON-002865_20210211, DON-002865_20210212, DON-002865_20210213, DON-002865_20210214, DON-002865_20210215, DON-002865_20210216, DON-002865_20210217, DON-002865_20210218, DON-002865_20210219  \n",
      "1  DON-003165_20210211, DON-003165_20210213, DON-003165_20210215, DON-003165_20210216, DON-003165_20210217, DON-003165_20210218, DON-003165_20210219, DON-003165_20210220, DON-003165_20210222, DON-003165_20210223  \n",
      "2  DON-003343_20210213, DON-003343_20210214, DON-003343_20210215, DON-003343_20210216, DON-003343_20210217, DON-003343_20210218, DON-003343_20210219, DON-003343_20210220, DON-003343_20210221, DON-003343_20210222  \n",
      "3  20210519, 20210520, 20210521, 20210522, 20210523, 20210524, 20210525, 20210526, 20210527, 20210528                                                                                                                \n",
      "4  20210519, 20210520, 20210521, 20210522, 20210523, 20210524, 20210525, 20210526, 20210527, 20210528                                                                                                                \n",
      "5  20210524, 20210525, 20210526, 20210527, 20210528, 20210529, 20210530, 20210531, 20210601, 20210602                                                                                                                \n",
      "**********************************************************************\n",
      "\n",
      "Mouse_id                 DON-006084                                                                                        \n",
      "Birth                    210430                                                                                            \n",
      "Injected_on              210502                                                                                            \n",
      "First_imaging_session    210519                                                                                            \n",
      "Last_imaging_session     210528                                                                                            \n",
      "#_of_sessions            10 (on wheel)                                                                                     \n",
      "Group                    Infant                                                                                            \n",
      "Suite2p_Processing       1                                                                                                 \n",
      "Suite2p_Curation         0                                                                                                 \n",
      "Comments                 naïve animal                                                                                      \n",
      "Pday_start               19                                                                                                \n",
      "Pday_end                 28                                                                                                \n",
      "Session_ids              20210519, 20210520, 20210521, 20210522, 20210523, 20210524, 20210525, 20210526, 20210527, 20210528\n",
      "Name: 3, dtype: object\n",
      "start: end:  19 28\n",
      "session ids:  20210519, 20210520, 20210521, 20210522, 20210523, 20210524, 20210525, 20210526, 20210527, 20210528\n"
     ]
    }
   ],
   "source": [
    "###################################################\n",
    "###################################################\n",
    "###################################################\n",
    "\n",
    "df = pd.read_excel('/media/cat/4TB/donato/CA3 Wheel Animals Database.xlsx')\n",
    "print (\"DF: \", df)\n",
    "idx = np.where(df['Mouse_id']=='DON-006084')[0].squeeze()\n",
    "print ('**********************************************************************')\n",
    "print ('')\n",
    "print(df.iloc[idx])\n",
    "P_start = int(df.iloc[idx]['Pday_start'])\n",
    "P_end = int(df.iloc[idx]['Pday_end'])\n",
    "print (\"start: end: \", P_start, P_end)\n",
    "\n",
    "#\n",
    "session_ids = df.iloc[idx]['Session_ids']\n",
    "print (\"session ids: \", session_ids)\n",
    "\n"
   ]
  },
  {
   "cell_type": "code",
   "execution_count": 3,
   "id": "7e1790c7",
   "metadata": {},
   "outputs": [
    {
     "name": "stdout",
     "output_type": "stream",
     "text": [
      "Mouse_id                 DON-006084                                                                                        \n",
      "Birth                    210430                                                                                            \n",
      "Injected_on              210502                                                                                            \n",
      "First_imaging_session    210519                                                                                            \n",
      "Last_imaging_session     210528                                                                                            \n",
      "#_of_sessions            10 (on wheel)                                                                                     \n",
      "Group                    Infant                                                                                            \n",
      "Suite2p_Processing       1                                                                                                 \n",
      "Suite2p_Curation         0                                                                                                 \n",
      "Comments                 naïve animal                                                                                      \n",
      "Pday_start               19                                                                                                \n",
      "Pday_end                 28                                                                                                \n",
      "Session_ids              20210519, 20210520, 20210521, 20210522, 20210523, 20210524, 20210525, 20210526, 20210527, 20210528\n",
      "Name: 3, dtype: object\n",
      "19 28\n",
      "20210519, 20210520, 20210521, 20210522, 20210523, 20210524, 20210525, 20210526, 20210527, 20210528\n"
     ]
    }
   ],
   "source": [
    "###################################################\n",
    "###################################################\n",
    "###################################################\n",
    "df = pd.read_excel('/media/cat/4TB/donato/CA3 Wheel Animals Database.xlsx')\n",
    "\n",
    "idx = np.where(df['Mouse_id']=='DON-006084')[0].squeeze()\n",
    "print(df.iloc[idx])\n",
    "P_start = int(df.iloc[idx]['Pday_start'])\n",
    "P_end = int(df.iloc[idx]['Pday_end'])\n",
    "print (P_start, P_end)\n",
    "\n",
    "#\n",
    "session_ids = df.iloc[idx]['Session_ids']\n",
    "print (session_ids)\n"
   ]
  },
  {
   "cell_type": "code",
   "execution_count": 55,
   "id": "adc57694",
   "metadata": {},
   "outputs": [
    {
     "name": "stdout",
     "output_type": "stream",
     "text": [
      "20210519, 20210520, 20210521, 20210522, 20210523, 20210524, 20210525, 20210526, 20210527, 20210528\n"
     ]
    }
   ],
   "source": [
    "###################################################\n",
    "###################################################\n",
    "###################################################\n",
    "idx = np.where(df['Mouse_id']=='DON-006084')[0].squeeze()\n",
    "#print(df.iloc[idx])\n",
    "session_ids = df.iloc[idx]['Session_ids']\n",
    "print (session_ids)\n",
    "\n",
    "\n",
    "#idx2 = np.where(df.iloc[idx]=='Birth')[0].squeeze()\n",
    "#print (\"idx2: \", idx2)"
   ]
  },
  {
   "cell_type": "code",
   "execution_count": null,
   "id": "a65a750d",
   "metadata": {},
   "outputs": [],
   "source": [
    "###################################################\n",
    "###################################################\n",
    "###################################################\n",
    "df.to_pickle(file_name)  # where to save it, usually as a .pkl\n"
   ]
  },
  {
   "cell_type": "code",
   "execution_count": null,
   "id": "15c481d7",
   "metadata": {},
   "outputs": [],
   "source": []
  },
  {
   "cell_type": "code",
   "execution_count": null,
   "id": "24e0b840",
   "metadata": {},
   "outputs": [],
   "source": []
  },
  {
   "cell_type": "code",
   "execution_count": null,
   "id": "73ed6492",
   "metadata": {},
   "outputs": [],
   "source": []
  },
  {
   "cell_type": "code",
   "execution_count": null,
   "id": "c6de4f6e",
   "metadata": {},
   "outputs": [],
   "source": []
  },
  {
   "cell_type": "code",
   "execution_count": null,
   "id": "e28d0818",
   "metadata": {},
   "outputs": [],
   "source": []
  },
  {
   "cell_type": "code",
   "execution_count": null,
   "id": "5e0005e2",
   "metadata": {},
   "outputs": [],
   "source": []
  },
  {
   "cell_type": "code",
   "execution_count": null,
   "id": "4aa2e2ad",
   "metadata": {},
   "outputs": [],
   "source": []
  },
  {
   "cell_type": "code",
   "execution_count": null,
   "id": "b9fad79a",
   "metadata": {},
   "outputs": [],
   "source": []
  },
  {
   "cell_type": "code",
   "execution_count": null,
   "id": "f780f36d",
   "metadata": {},
   "outputs": [],
   "source": []
  },
  {
   "cell_type": "code",
   "execution_count": null,
   "id": "c882357d",
   "metadata": {},
   "outputs": [],
   "source": []
  },
  {
   "cell_type": "code",
   "execution_count": null,
   "id": "6b2586ac",
   "metadata": {},
   "outputs": [],
   "source": []
  },
  {
   "cell_type": "code",
   "execution_count": null,
   "id": "f67e69f9",
   "metadata": {},
   "outputs": [],
   "source": []
  },
  {
   "cell_type": "code",
   "execution_count": null,
   "id": "ac39dbfa",
   "metadata": {},
   "outputs": [],
   "source": []
  },
  {
   "cell_type": "code",
   "execution_count": null,
   "id": "f29f5782",
   "metadata": {},
   "outputs": [],
   "source": []
  },
  {
   "cell_type": "code",
   "execution_count": null,
   "id": "7a1d2010",
   "metadata": {},
   "outputs": [],
   "source": []
  },
  {
   "cell_type": "code",
   "execution_count": null,
   "id": "a77cf695",
   "metadata": {},
   "outputs": [],
   "source": []
  },
  {
   "cell_type": "code",
   "execution_count": null,
   "id": "8fb7037b",
   "metadata": {},
   "outputs": [],
   "source": []
  },
  {
   "cell_type": "code",
   "execution_count": null,
   "id": "6c8f2e14",
   "metadata": {},
   "outputs": [],
   "source": []
  },
  {
   "cell_type": "code",
   "execution_count": null,
   "id": "43484dbc",
   "metadata": {},
   "outputs": [],
   "source": []
  },
  {
   "cell_type": "code",
   "execution_count": null,
   "id": "25c03991",
   "metadata": {},
   "outputs": [],
   "source": []
  },
  {
   "cell_type": "code",
   "execution_count": null,
   "id": "04c36c7f",
   "metadata": {},
   "outputs": [],
   "source": []
  }
 ],
 "metadata": {
  "kernelspec": {
   "display_name": "Python 3 (ipykernel)",
   "language": "python",
   "name": "python3"
  },
  "language_info": {
   "codemirror_mode": {
    "name": "ipython",
    "version": 3
   },
   "file_extension": ".py",
   "mimetype": "text/x-python",
   "name": "python",
   "nbconvert_exporter": "python",
   "pygments_lexer": "ipython3",
   "version": "3.8.12"
  }
 },
 "nbformat": 4,
 "nbformat_minor": 5
}
