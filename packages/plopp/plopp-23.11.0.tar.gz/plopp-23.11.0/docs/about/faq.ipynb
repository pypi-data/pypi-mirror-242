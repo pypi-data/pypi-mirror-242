{
 "cells": [
  {
   "cell_type": "markdown",
   "id": "1cada456-26a6-486f-addc-9ee9bdc119e1",
   "metadata": {},
   "source": [
    "# Frequently Asked Questions\n",
    "\n",
    "## Subplots with 3D scatter plots\n",
    "\n",
    "The three-dimensional visualizations in Plopp do not use Matplotlib, but Pythreejs.\n",
    "Consequently, it is not possible to insert a [three-dimensional scatter plot](../basics/scatter3d-plot.ipynb) inside a subplot made of Matplotlib axes.\n",
    "The only way to make a three-dimensional view part of subplots is to use the container widgets described in the [subplots page](../customization/subplots.ipynb)."
   ]
  },
  {
   "cell_type": "code",
   "execution_count": null,
   "id": "5307e510-77b8-48c2-87f4-891de0969c87",
   "metadata": {},
   "outputs": [],
   "source": [
    "%matplotlib widget\n",
    "import plopp as pp\n",
    "import matplotlib.pyplot as plt\n",
    "from plopp.widgets import Box\n",
    "\n",
    "da1 = pp.data.data1d()\n",
    "da2 = pp.data.scatter()\n",
    "\n",
    "p1 = pp.plot(da1)\n",
    "p2 = pp.scatter3d(da2, x='x', y='y', z='z', figsize=(550, 400))\n",
    "\n",
    "Box([p1, p2])"
   ]
  }
 ],
 "metadata": {
  "kernelspec": {
   "display_name": "Python 3 (ipykernel)",
   "language": "python",
   "name": "python3"
  },
  "language_info": {
   "codemirror_mode": {
    "name": "ipython",
    "version": 3
   },
   "file_extension": ".py",
   "mimetype": "text/x-python",
   "name": "python",
   "nbconvert_exporter": "python",
   "pygments_lexer": "ipython3",
   "version": "3.9.15"
  }
 },
 "nbformat": 4,
 "nbformat_minor": 5
}
