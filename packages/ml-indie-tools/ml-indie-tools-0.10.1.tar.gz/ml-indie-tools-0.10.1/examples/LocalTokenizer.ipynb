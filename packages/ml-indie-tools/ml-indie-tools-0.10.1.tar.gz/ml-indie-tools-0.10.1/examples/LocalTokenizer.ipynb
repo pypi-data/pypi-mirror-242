{
 "cells": [
  {
   "cell_type": "code",
   "execution_count": 1,
   "id": "1ab1d0a7-5931-4123-ad77-2f9504523822",
   "metadata": {},
   "outputs": [],
   "source": [
    "%load_ext autoreload\n",
    "%autoreload 2"
   ]
  },
  {
   "cell_type": "code",
   "execution_count": 2,
   "id": "930d7451-81aa-40ef-9e0f-9dc13a18d687",
   "metadata": {},
   "outputs": [],
   "source": [
    "import sys\n",
    "sys.path.append('../src/ml_indie_tools')  # Point to local module source"
   ]
  },
  {
   "cell_type": "code",
   "execution_count": 7,
   "id": "8a28207b-559f-4530-b647-1a06c82d8df6",
   "metadata": {},
   "outputs": [],
   "source": [
    "import logging\n",
    "logging.basicConfig(encoding='utf-8', level=logging.INFO)\n",
    "from Gutenberg_Dataset import Gutenberg_Dataset\n",
    "from Text_Dataset import Text_Dataset"
   ]
  },
  {
   "cell_type": "code",
   "execution_count": 8,
   "id": "26e09695-1952-4464-a3f8-0824ee64d48b",
   "metadata": {},
   "outputs": [
    {
     "name": "stdout",
     "output_type": "stream",
     "text": [
      "Prolegomena to the Study of Hegel's Philosophy\n",
      "Kant's Prolegomena\n",
      "The Cornish Fishermen's Watch Night and Other Stories\n",
      "Prolegomena to the History of Israel\n",
      "Legge Prolegomena\n"
     ]
    }
   ],
   "source": [
    "gd=Gutenberg_Dataset()\n",
    "gd.load_index()\n",
    "bl=gd.search({'title': ['proleg', 'hermen'], 'language': ['english']})\n",
    "bl=gd.insert_book_texts(bl)\n",
    "for i in range(len(bl)):\n",
    "    print(bl[i]['title'])"
   ]
  },
  {
   "cell_type": "code",
   "execution_count": 9,
   "id": "07ccb1c1-8073-436b-a5e0-69cf7c5725f8",
   "metadata": {},
   "outputs": [
    {
     "name": "stderr",
     "output_type": "stream",
     "text": [
      "INFO:Datasets:Loaded 5 texts\n"
     ]
    },
    {
     "data": {
      "text/html": [
       "If we writ<span style=\"background-color:#e2d7d5;\">e anything t</span><sup>[4]</sup><span style=\"background-color:#d8daef;\">hat contains </span><sup>[1]</sup><span style=\"background-color:#e2d7d5;\">parts of the s</span><sup>[4]</sup>ources, like<span style=\"background-color:#d8daef;\">: that is t</span><sup>[1]</sup><span style=\"background-color:#e2d7d5;\">heir motto</span><sup>[4]</sup>, then a highligh<span style=\"background-color:#d8daef;\">t will be a</span><sup>[1]</sup>pplied."
      ],
      "text/plain": [
       "<IPython.core.display.HTML object>"
      ]
     },
     "metadata": {},
     "output_type": "display_data"
    },
    {
     "data": {
      "text/html": [
       "<small><p style=\"text-align:right;\">Sources: <span style=\"background-color:#e2d7d5;\">Julius Wellhausen: Prolegomena to the History of Israel</span><sup>[4]</sup>, <span style=\"background-color:#d8daef;\">William Wallace and G. W. F. Hegel: Prolegomena to the Study of Hegel's Philosophy</span><sup>[1]</sup></p></small>"
      ],
      "text/plain": [
       "<IPython.core.display.HTML object>"
      ]
     },
     "metadata": {},
     "output_type": "display_data"
    }
   ],
   "source": [
    "tl = Text_Dataset(bl)  # bl contains a list of texts (books from Gutenberg)\n",
    "tl.source_highlight(\"If we write anything that contains parts of the sources, like: that is their motto, then a highlight will be applied.\")"
   ]
  },
  {
   "cell_type": "code",
   "execution_count": 10,
   "id": "840ea739-0f24-4598-8b0d-d77a4e167c16",
   "metadata": {},
   "outputs": [
    {
     "name": "stderr",
     "output_type": "stream",
     "text": [
      "INFO:Datasets:Extracting ngrams of length 1..5 from text_list, selecting 5000 most used ngrams.\n"
     ]
    },
    {
     "name": "stdout",
     "output_type": "stream",
     "text": [
      "Text length 81, That would be a valid argument if we hadn't defeated it's assumptions way before.\n"
     ]
    },
    {
     "name": "stderr",
     "output_type": "stream",
     "text": [
      "INFO:Datasets:Encoding text corpora as ngrams.\n",
      "INFO:Datasets:Encoding text Prolegomena to the Study of Hegel's Philosophy...\n",
      "INFO:Datasets:Encoding text Kant's Prolegomena...\n",
      "INFO:Datasets:Encoding text The Cornish Fishermen's Watch Night and Other Stories...\n",
      "INFO:Datasets:Encoding text Prolegomena to the History of Israel...\n",
      "INFO:Datasets:Encoding text Legge Prolegomena...\n",
      "INFO:Datasets:Encoding text corpora as ngrams done.\n"
     ]
    },
    {
     "name": "stdout",
     "output_type": "stream",
     "text": [
      "Token-count: 27, [1447, 3688, 1722, 4711, 4880, 1210, 1393, 4393, 2382, 1352, 3655, 1972, 1939, 44, 23, 3333, 1871, 4975, 2967, 2884, 2216, 2382, 3048, 1546, 4589, 2272, 30]\n"
     ]
    }
   ],
   "source": [
    "test_text=\"That would be a valid argument if we hadn't defeated it's assumptions way before.\"\n",
    "print(f\"Text length {len(test_text)}, {test_text}\")\n",
    "tokenizer='ngram'\n",
    "tl.init_tokenizer(tokenizer=tokenizer)\n",
    "st = tl.tokenize(test_text)\n",
    "print(f\"Token-count: {len(st)}, {st}\")"
   ]
  },
  {
   "cell_type": "code",
   "execution_count": 11,
   "id": "a6d6f0ea-92b8-48be-be59-f07ae3d6cbb6",
   "metadata": {},
   "outputs": [
    {
     "name": "stdout",
     "output_type": "stream",
     "text": [
      "Text length 84, ðƒ That would be a valid argument if we hadn't defeated it's assumptions way before.\n",
      "Token-count: 29, ['<unk>', '<unk>', 1397, 3688, 1722, 4711, 4880, 1210, 1393, 4393, 2382, 1352, 3655, 1972, 1939, 44, 23, 3333, 1871, 4975, 2967, 2884, 2216, 2382, 3048, 1546, 4589, 2272, 30]\n"
     ]
    }
   ],
   "source": [
    "test2=\"ðƒ \"+test_text\n",
    "print(f\"Text length {len(test2)}, {test2}\")\n",
    "el=tl.encode(test2)\n",
    "print(f\"Token-count: {len(el)}, {el}\")"
   ]
  },
  {
   "cell_type": "code",
   "execution_count": 17,
   "id": "3bb8947f-e546-4a62-9586-14baa44cff80",
   "metadata": {},
   "outputs": [],
   "source": [
    "tl.init_getitem(\"encoded\")"
   ]
  },
  {
   "cell_type": "code",
   "execution_count": 19,
   "id": "0b4ad9bc-b468-4bfe-b9b4-b8d89fc708bf",
   "metadata": {},
   "outputs": [
    {
     "data": {
      "text/plain": [
       "'S PHILOSOPHY\\n\\nAND\\n\\n_ESPECIALLY OF HIS LOGIC_\\n\\nBY\\n\\nWILLIAM WALLACE, M.A., LL.D.\\n\\nFELLOW OF MERTON C'"
      ]
     },
     "execution_count": 19,
     "metadata": {},
     "output_type": "execute_result"
    }
   ],
   "source": [
    "tl.decode(tl[3])"
   ]
  },
  {
   "cell_type": "code",
   "execution_count": 20,
   "id": "4a837763-652e-4fb9-bdb1-0c51c9e29b24",
   "metadata": {},
   "outputs": [
    {
     "data": {
      "text/plain": [
       "5000"
      ]
     },
     "execution_count": 20,
     "metadata": {},
     "output_type": "execute_result"
    }
   ],
   "source": [
    "tl.get_unique_token_count()"
   ]
  },
  {
   "cell_type": "code",
   "execution_count": null,
   "id": "52955351-fd21-44b4-b63b-46937be6f305",
   "metadata": {},
   "outputs": [],
   "source": []
  }
 ],
 "metadata": {
  "kernelspec": {
   "display_name": "Python 3 (ipykernel)",
   "language": "python",
   "name": "python3"
  },
  "language_info": {
   "codemirror_mode": {
    "name": "ipython",
    "version": 3
   },
   "file_extension": ".py",
   "mimetype": "text/x-python",
   "name": "python",
   "nbconvert_exporter": "python",
   "pygments_lexer": "ipython3",
   "version": "3.10.5"
  }
 },
 "nbformat": 4,
 "nbformat_minor": 5
}
