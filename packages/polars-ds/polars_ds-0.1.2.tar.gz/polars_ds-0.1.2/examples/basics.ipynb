{
 "cells": [
  {
   "cell_type": "code",
   "execution_count": 1,
   "id": "529f4422-5c3a-4bd6-abe0-a15edfc62abb",
   "metadata": {},
   "outputs": [],
   "source": [
    "from polars_ds import StrExt, NumExt\n",
    "import polars as pl\n",
    "import numpy as np "
   ]
  },
  {
   "cell_type": "markdown",
   "id": "3aef5c69-fff3-4779-9b58-f939d725f0b0",
   "metadata": {},
   "source": [
    "# Num Extensions"
   ]
  },
  {
   "cell_type": "code",
   "execution_count": 2,
   "id": "430fec01-5d0b-422f-b099-c86037512b6d",
   "metadata": {},
   "outputs": [
    {
     "data": {
      "text/html": [
       "<div><style>\n",
       ".dataframe > thead > tr > th,\n",
       ".dataframe > tbody > tr > td {\n",
       "  text-align: right;\n",
       "  white-space: pre-wrap;\n",
       "}\n",
       "</style>\n",
       "<small>shape: (5, 10)</small><table border=\"1\" class=\"dataframe\"><thead><tr><th>f</th><th>dummy</th><th>a</th><th>b</th><th>x1</th><th>x2</th><th>y</th><th>actual</th><th>predicted</th><th>dummy_groups</th></tr><tr><td>f64</td><td>str</td><td>f64</td><td>f64</td><td>i64</td><td>i64</td><td>i64</td><td>i32</td><td>f64</td><td>str</td></tr></thead><tbody><tr><td>0.0</td><td>&quot;a&quot;</td><td>0.885027</td><td>0.882198</td><td>0</td><td>100000</td><td>-100000</td><td>0</td><td>0.496191</td><td>&quot;a&quot;</td></tr><tr><td>0.841471</td><td>&quot;a&quot;</td><td>0.650153</td><td>0.412553</td><td>1</td><td>100001</td><td>-99999</td><td>0</td><td>0.484822</td><td>&quot;a&quot;</td></tr><tr><td>0.909297</td><td>&quot;a&quot;</td><td>0.371058</td><td>0.566292</td><td>2</td><td>100002</td><td>-99998</td><td>1</td><td>0.500862</td><td>&quot;a&quot;</td></tr><tr><td>0.14112</td><td>&quot;a&quot;</td><td>0.685015</td><td>0.200661</td><td>3</td><td>100003</td><td>-99997</td><td>1</td><td>0.056418</td><td>&quot;a&quot;</td></tr><tr><td>-0.756802</td><td>&quot;a&quot;</td><td>0.495579</td><td>0.567158</td><td>4</td><td>100004</td><td>-99996</td><td>0</td><td>0.829329</td><td>&quot;a&quot;</td></tr></tbody></table></div>"
      ],
      "text/plain": [
       "shape: (5, 10)\n",
       "┌───────────┬───────┬──────────┬──────────┬───┬─────────┬────────┬───────────┬──────────────┐\n",
       "│ f         ┆ dummy ┆ a        ┆ b        ┆ … ┆ y       ┆ actual ┆ predicted ┆ dummy_groups │\n",
       "│ ---       ┆ ---   ┆ ---      ┆ ---      ┆   ┆ ---     ┆ ---    ┆ ---       ┆ ---          │\n",
       "│ f64       ┆ str   ┆ f64      ┆ f64      ┆   ┆ i64     ┆ i32    ┆ f64       ┆ str          │\n",
       "╞═══════════╪═══════╪══════════╪══════════╪═══╪═════════╪════════╪═══════════╪══════════════╡\n",
       "│ 0.0       ┆ a     ┆ 0.885027 ┆ 0.882198 ┆ … ┆ -100000 ┆ 0      ┆ 0.496191  ┆ a            │\n",
       "│ 0.841471  ┆ a     ┆ 0.650153 ┆ 0.412553 ┆ … ┆ -99999  ┆ 0      ┆ 0.484822  ┆ a            │\n",
       "│ 0.909297  ┆ a     ┆ 0.371058 ┆ 0.566292 ┆ … ┆ -99998  ┆ 1      ┆ 0.500862  ┆ a            │\n",
       "│ 0.14112   ┆ a     ┆ 0.685015 ┆ 0.200661 ┆ … ┆ -99997  ┆ 1      ┆ 0.056418  ┆ a            │\n",
       "│ -0.756802 ┆ a     ┆ 0.495579 ┆ 0.567158 ┆ … ┆ -99996  ┆ 0      ┆ 0.829329  ┆ a            │\n",
       "└───────────┴───────┴──────────┴──────────┴───┴─────────┴────────┴───────────┴──────────────┘"
      ]
     },
     "execution_count": 2,
     "metadata": {},
     "output_type": "execute_result"
    }
   ],
   "source": [
    "size = 100_000\n",
    "df = pl.DataFrame({\n",
    "    \"f\": np.sin(list(range(size)))\n",
    "    , \"dummy\": [\"a\"] * (size // 2) + [\"b\"] * (size // 2)\n",
    "    , \"a\": np.random.random(size = size)\n",
    "    , \"b\": np.random.random(size = size)\n",
    "    , \"x1\" : range(size)\n",
    "    , \"x2\" : range(size, size + size)\n",
    "    , \"y\": range(-size, 0)\n",
    "    , \"actual\": np.round(np.random.random(size=100_000)).astype(np.int32)\n",
    "    , \"predicted\": np.random.random(size=100_000)\n",
    "    , \"dummy_groups\":[\"a\"] * (size//2) + [\"b\"] * (size//2) \n",
    "})\n",
    "df.head()"
   ]
  },
  {
   "cell_type": "code",
   "execution_count": 3,
   "id": "b6f98453-34cd-4afc-b35d-db58fa60a69a",
   "metadata": {},
   "outputs": [
    {
     "data": {
      "text/html": [
       "<div><style>\n",
       ".dataframe > thead > tr > th,\n",
       ".dataframe > tbody > tr > td {\n",
       "  text-align: right;\n",
       "  white-space: pre-wrap;\n",
       "}\n",
       "</style>\n",
       "<small>shape: (1, 1)</small><table border=\"1\" class=\"dataframe\"><thead><tr><th>x1</th></tr><tr><td>f64</td></tr></thead><tbody><tr><td>0.0</td></tr></tbody></table></div>"
      ],
      "text/plain": [
       "shape: (1, 1)\n",
       "┌─────┐\n",
       "│ x1  │\n",
       "│ --- │\n",
       "│ f64 │\n",
       "╞═════╡\n",
       "│ 0.0 │\n",
       "└─────┘"
      ]
     },
     "execution_count": 3,
     "metadata": {},
     "output_type": "execute_result"
    }
   ],
   "source": [
    "# Column-wise Jaccard Similarity. Result should be 0 as they are distinct\n",
    "df.select(\n",
    "    pl.col(\"x1\").num_ext.jaccard(pl.col(\"x2\"))\n",
    ")"
   ]
  },
  {
   "cell_type": "code",
   "execution_count": 4,
   "id": "416d5346-e75b-4769-a953-e898d6a4d84c",
   "metadata": {},
   "outputs": [
    {
     "data": {
      "text/html": [
       "<div><style>\n",
       ".dataframe > thead > tr > th,\n",
       ".dataframe > tbody > tr > td {\n",
       "  text-align: right;\n",
       "  white-space: pre-wrap;\n",
       "}\n",
       "</style>\n",
       "<small>shape: (5, 2)</small><table border=\"1\" class=\"dataframe\"><thead><tr><th>re</th><th>im</th></tr><tr><td>f64</td><td>f64</td></tr></thead><tbody><tr><td>1.812028</td><td>0.0</td></tr><tr><td>1.812028</td><td>-0.000002</td></tr><tr><td>1.812028</td><td>-0.000005</td></tr><tr><td>1.812028</td><td>-0.000007</td></tr><tr><td>1.812028</td><td>-0.00001</td></tr></tbody></table></div>"
      ],
      "text/plain": [
       "shape: (5, 2)\n",
       "┌──────────┬───────────┐\n",
       "│ re       ┆ im        │\n",
       "│ ---      ┆ ---       │\n",
       "│ f64      ┆ f64       │\n",
       "╞══════════╪═══════════╡\n",
       "│ 1.812028 ┆ 0.0       │\n",
       "│ 1.812028 ┆ -0.000002 │\n",
       "│ 1.812028 ┆ -0.000005 │\n",
       "│ 1.812028 ┆ -0.000007 │\n",
       "│ 1.812028 ┆ -0.00001  │\n",
       "└──────────┴───────────┘"
      ]
     },
     "execution_count": 4,
     "metadata": {},
     "output_type": "execute_result"
    }
   ],
   "source": [
    "# FFT\n",
    "df.select(\n",
    "    pl.col(\"f\").num_ext.fft()\n",
    ").unnest(\"f\").head()"
   ]
  },
  {
   "cell_type": "code",
   "execution_count": 5,
   "id": "ed47b643-6bcc-43f6-9a25-82168c33e7fd",
   "metadata": {},
   "outputs": [
    {
     "data": {
      "text/html": [
       "<div><style>\n",
       ".dataframe > thead > tr > th,\n",
       ".dataframe > tbody > tr > td {\n",
       "  text-align: right;\n",
       "  white-space: pre-wrap;\n",
       "}\n",
       "</style>\n",
       "<small>shape: (1, 1)</small><table border=\"1\" class=\"dataframe\"><thead><tr><th>y</th></tr><tr><td>list[f64]</td></tr></thead><tbody><tr><td>[2.0, -1.0]</td></tr></tbody></table></div>"
      ],
      "text/plain": [
       "shape: (1, 1)\n",
       "┌─────────────┐\n",
       "│ y           │\n",
       "│ ---         │\n",
       "│ list[f64]   │\n",
       "╞═════════════╡\n",
       "│ [2.0, -1.0] │\n",
       "└─────────────┘"
      ]
     },
     "execution_count": 5,
     "metadata": {},
     "output_type": "execute_result"
    }
   ],
   "source": [
    "# Least Square (Linear Regression)\n",
    "df.select(\n",
    "    pl.col(\"y\").num_ext.lstsq(pl.col(\"x1\"), pl.col(\"x2\"), add_bias=False)\n",
    ")"
   ]
  },
  {
   "cell_type": "code",
   "execution_count": 6,
   "metadata": {},
   "outputs": [
    {
     "data": {
      "text/html": [
       "<div><style>\n",
       ".dataframe > thead > tr > th,\n",
       ".dataframe > tbody > tr > td {\n",
       "  text-align: right;\n",
       "  white-space: pre-wrap;\n",
       "}\n",
       "</style>\n",
       "<small>shape: (1, 1)</small><table border=\"1\" class=\"dataframe\"><thead><tr><th>y</th></tr><tr><td>list[f64]</td></tr></thead><tbody><tr><td>[2.0, -1.0]</td></tr></tbody></table></div>"
      ],
      "text/plain": [
       "shape: (1, 1)\n",
       "┌─────────────┐\n",
       "│ y           │\n",
       "│ ---         │\n",
       "│ list[f64]   │\n",
       "╞═════════════╡\n",
       "│ [2.0, -1.0] │\n",
       "└─────────────┘"
      ]
     },
     "execution_count": 6,
     "metadata": {},
     "output_type": "execute_result"
    }
   ],
   "source": [
    "df.lazy().select(\n",
    "    pl.col(\"y\").num_ext.lstsq(pl.col(\"x1\"), pl.col(\"x2\"), add_bias=False)\n",
    ").collect()"
   ]
  },
  {
   "cell_type": "code",
   "execution_count": 7,
   "id": "16511624-fc7f-45fc-b28e-ad9a91c1bfe9",
   "metadata": {},
   "outputs": [
    {
     "data": {
      "text/html": [
       "<div><style>\n",
       ".dataframe > thead > tr > th,\n",
       ".dataframe > tbody > tr > td {\n",
       "  text-align: right;\n",
       "  white-space: pre-wrap;\n",
       "}\n",
       "</style>\n",
       "<small>shape: (5, 1)</small><table border=\"1\" class=\"dataframe\"><thead><tr><th>list_float</th></tr><tr><td>list[f64]</td></tr></thead><tbody><tr><td>[2.0, -1.0]</td></tr><tr><td>[2.0, -1.0]</td></tr><tr><td>[2.0, -1.0]</td></tr><tr><td>[2.0, -1.0]</td></tr><tr><td>[2.0, -1.0]</td></tr></tbody></table></div>"
      ],
      "text/plain": [
       "shape: (5, 1)\n",
       "┌─────────────┐\n",
       "│ list_float  │\n",
       "│ ---         │\n",
       "│ list[f64]   │\n",
       "╞═════════════╡\n",
       "│ [2.0, -1.0] │\n",
       "│ [2.0, -1.0] │\n",
       "│ [2.0, -1.0] │\n",
       "│ [2.0, -1.0] │\n",
       "│ [2.0, -1.0] │\n",
       "└─────────────┘"
      ]
     },
     "execution_count": 7,
     "metadata": {},
     "output_type": "execute_result"
    }
   ],
   "source": [
    "df.select(\n",
    "    pl.col(\"y\").num_ext.lstsq(pl.col(\"x1\"), pl.col(\"x2\"), add_bias=False).over(pl.col(\"dummy\"))\n",
    ").head()"
   ]
  },
  {
   "cell_type": "code",
   "execution_count": 8,
   "id": "0e9fb061-340d-423d-9107-772387006ff2",
   "metadata": {},
   "outputs": [
    {
     "data": {
      "text/html": [
       "<div><style>\n",
       ".dataframe > thead > tr > th,\n",
       ".dataframe > tbody > tr > td {\n",
       "  text-align: right;\n",
       "  white-space: pre-wrap;\n",
       "}\n",
       "</style>\n",
       "<small>shape: (2, 2)</small><table border=\"1\" class=\"dataframe\"><thead><tr><th>dummy</th><th>list_float</th></tr><tr><td>str</td><td>list[f64]</td></tr></thead><tbody><tr><td>&quot;b&quot;</td><td>[2.0, -1.0]</td></tr><tr><td>&quot;a&quot;</td><td>[2.0, -1.0]</td></tr></tbody></table></div>"
      ],
      "text/plain": [
       "shape: (2, 2)\n",
       "┌───────┬─────────────┐\n",
       "│ dummy ┆ list_float  │\n",
       "│ ---   ┆ ---         │\n",
       "│ str   ┆ list[f64]   │\n",
       "╞═══════╪═════════════╡\n",
       "│ b     ┆ [2.0, -1.0] │\n",
       "│ a     ┆ [2.0, -1.0] │\n",
       "└───────┴─────────────┘"
      ]
     },
     "execution_count": 8,
     "metadata": {},
     "output_type": "execute_result"
    }
   ],
   "source": [
    "df.group_by(\"dummy\").agg(\n",
    "    pl.col(\"y\").num_ext.lstsq(pl.col(\"x1\"), pl.col(\"x2\"), add_bias=False)\n",
    ")\n"
   ]
  },
  {
   "cell_type": "code",
   "execution_count": 9,
   "id": "d8fda8ca-57e7-4e02-a3f0-283ecce66a59",
   "metadata": {},
   "outputs": [
    {
     "data": {
      "text/html": [
       "<div><style>\n",
       ".dataframe > thead > tr > th,\n",
       ".dataframe > tbody > tr > td {\n",
       "  text-align: right;\n",
       "  white-space: pre-wrap;\n",
       "}\n",
       "</style>\n",
       "<small>shape: (1, 1)</small><table border=\"1\" class=\"dataframe\"><thead><tr><th>y</th></tr><tr><td>f64</td></tr></thead><tbody><tr><td>-0.0</td></tr></tbody></table></div>"
      ],
      "text/plain": [
       "shape: (1, 1)\n",
       "┌──────┐\n",
       "│ y    │\n",
       "│ ---  │\n",
       "│ f64  │\n",
       "╞══════╡\n",
       "│ -0.0 │\n",
       "└──────┘"
      ]
     },
     "execution_count": 9,
     "metadata": {},
     "output_type": "execute_result"
    }
   ],
   "source": [
    "# Conditional Entropy, should be 0 because x1 is an ID\n",
    "df.select(\n",
    "    pl.col(\"y\").num_ext.cond_entropy(pl.col(\"x1\"))\n",
    ")"
   ]
  },
  {
   "cell_type": "code",
   "execution_count": 10,
   "id": "cf55f007-a7c2-4a78-a93b-4d83bfefe95c",
   "metadata": {},
   "outputs": [],
   "source": [
    "# t statistics"
   ]
  },
  {
   "cell_type": "code",
   "execution_count": 11,
   "id": "b78e8775-c50e-4d1f-a482-a5f76a358a9b",
   "metadata": {},
   "outputs": [
    {
     "data": {
      "text/html": [
       "<div><style>\n",
       ".dataframe > thead > tr > th,\n",
       ".dataframe > tbody > tr > td {\n",
       "  text-align: right;\n",
       "  white-space: pre-wrap;\n",
       "}\n",
       "</style>\n",
       "<small>shape: (1, 1)</small><table border=\"1\" class=\"dataframe\"><thead><tr><th>a</th></tr><tr><td>f64</td></tr></thead><tbody><tr><td>0.048948</td></tr></tbody></table></div>"
      ],
      "text/plain": [
       "shape: (1, 1)\n",
       "┌──────────┐\n",
       "│ a        │\n",
       "│ ---      │\n",
       "│ f64      │\n",
       "╞══════════╡\n",
       "│ 0.048948 │\n",
       "└──────────┘"
      ]
     },
     "execution_count": 11,
     "metadata": {},
     "output_type": "execute_result"
    }
   ],
   "source": [
    "df.select(\n",
    "    pl.col(\"a\").num_ext.t_2samp(pl.col(\"b\"))\n",
    ")"
   ]
  },
  {
   "cell_type": "code",
   "execution_count": 12,
   "id": "bf70afa1-28f9-4227-a58f-aa49ed722e4a",
   "metadata": {},
   "outputs": [],
   "source": [
    "# df.select(\n",
    "#     pl.col(\"a\").num_ext.welch_t(pl.col(\"b\"), return_df = True)\n",
    "# )"
   ]
  },
  {
   "cell_type": "code",
   "execution_count": 13,
   "id": "f7c22e5e-b724-4ed9-827f-1a4f41870b8c",
   "metadata": {},
   "outputs": [
    {
     "data": {
      "text/html": [
       "<div><style>\n",
       ".dataframe > thead > tr > th,\n",
       ".dataframe > tbody > tr > td {\n",
       "  text-align: right;\n",
       "  white-space: pre-wrap;\n",
       "}\n",
       "</style>\n",
       "<small>shape: (2, 2)</small><table border=\"1\" class=\"dataframe\"><thead><tr><th>dummy</th><th>t</th></tr><tr><td>str</td><td>f64</td></tr></thead><tbody><tr><td>&quot;a&quot;</td><td>-146.456324</td></tr><tr><td>&quot;b&quot;</td><td>-146.646377</td></tr></tbody></table></div>"
      ],
      "text/plain": [
       "shape: (2, 2)\n",
       "┌───────┬─────────────┐\n",
       "│ dummy ┆ t           │\n",
       "│ ---   ┆ ---         │\n",
       "│ str   ┆ f64         │\n",
       "╞═══════╪═════════════╡\n",
       "│ a     ┆ -146.456324 │\n",
       "│ b     ┆ -146.646377 │\n",
       "└───────┴─────────────┘"
      ]
     },
     "execution_count": 13,
     "metadata": {},
     "output_type": "execute_result"
    }
   ],
   "source": [
    "df.group_by(\"dummy\").agg(\n",
    "    pl.col(\"f\").num_ext.t_2samp(pl.col(\"b\")).alias(\"t\")\n",
    ")"
   ]
  },
  {
   "cell_type": "code",
   "execution_count": 14,
   "id": "85d0d094-3c4c-4230-a589-1027c5690162",
   "metadata": {},
   "outputs": [
    {
     "data": {
      "text/html": [
       "<div><style>\n",
       ".dataframe > thead > tr > th,\n",
       ".dataframe > tbody > tr > td {\n",
       "  text-align: right;\n",
       "  white-space: pre-wrap;\n",
       "}\n",
       "</style>\n",
       "<small>shape: (2, 8)</small><table border=\"1\" class=\"dataframe\"><thead><tr><th>dummy_groups</th><th>l2</th><th>log loss</th><th>precision</th><th>recall</th><th>f</th><th>average_precision</th><th>roc_auc</th></tr><tr><td>str</td><td>f64</td><td>f64</td><td>f64</td><td>f64</td><td>f64</td><td>f64</td><td>f64</td></tr></thead><tbody><tr><td>&quot;b&quot;</td><td>0.333623</td><td>1.001309</td><td>0.4999</td><td>0.502372</td><td>0.250566</td><td>0.498001</td><td>0.499788</td></tr><tr><td>&quot;a&quot;</td><td>0.332462</td><td>0.995449</td><td>0.500877</td><td>0.501856</td><td>0.250683</td><td>0.502352</td><td>0.500708</td></tr></tbody></table></div>"
      ],
      "text/plain": [
       "shape: (2, 8)\n",
       "┌──────────────┬──────────┬──────────┬───────────┬──────────┬──────────┬────────────────┬──────────┐\n",
       "│ dummy_groups ┆ l2       ┆ log loss ┆ precision ┆ recall   ┆ f        ┆ average_precis ┆ roc_auc  │\n",
       "│ ---          ┆ ---      ┆ ---      ┆ ---       ┆ ---      ┆ ---      ┆ ion            ┆ ---      │\n",
       "│ str          ┆ f64      ┆ f64      ┆ f64       ┆ f64      ┆ f64      ┆ ---            ┆ f64      │\n",
       "│              ┆          ┆          ┆           ┆          ┆          ┆ f64            ┆          │\n",
       "╞══════════════╪══════════╪══════════╪═══════════╪══════════╪══════════╪════════════════╪══════════╡\n",
       "│ b            ┆ 0.333623 ┆ 1.001309 ┆ 0.4999    ┆ 0.502372 ┆ 0.250566 ┆ 0.498001       ┆ 0.499788 │\n",
       "│ a            ┆ 0.332462 ┆ 0.995449 ┆ 0.500877  ┆ 0.501856 ┆ 0.250683 ┆ 0.502352       ┆ 0.500708 │\n",
       "└──────────────┴──────────┴──────────┴───────────┴──────────┴──────────┴────────────────┴──────────┘"
      ]
     },
     "execution_count": 14,
     "metadata": {},
     "output_type": "execute_result"
    }
   ],
   "source": [
    "df.group_by(\"dummy_groups\").agg(\n",
    "    pl.col(\"actual\").num_ext.l2_loss(pl.col(\"predicted\")).alias(\"l2\"),\n",
    "    pl.col(\"actual\").num_ext.bce(pl.col(\"predicted\")).alias(\"log loss\"),\n",
    "    pl.col(\"actual\").num_ext.binary_metrics_combo(pl.col(\"predicted\")).alias(\"combo\")\n",
    ").unnest(\"combo\")\n"
   ]
  },
  {
   "cell_type": "markdown",
   "id": "a8d7c6e3-0f1d-45f0-9fdb-cdb303b98556",
   "metadata": {},
   "source": [
    "# Str Extension"
   ]
  },
  {
   "cell_type": "code",
   "execution_count": 15,
   "id": "54ad36f9-264e-4a49-bf36-936639440edf",
   "metadata": {},
   "outputs": [
    {
     "data": {
      "text/html": [
       "<div><style>\n",
       ".dataframe > thead > tr > th,\n",
       ".dataframe > tbody > tr > td {\n",
       "  text-align: right;\n",
       "  white-space: pre-wrap;\n",
       "}\n",
       "</style>\n",
       "<small>shape: (5, 2)</small><table border=\"1\" class=\"dataframe\"><thead><tr><th>sen</th><th>word</th></tr><tr><td>str</td><td>str</td></tr></thead><tbody><tr><td>&quot;Hello, world! …</td><td>&quot;words&quot;</td></tr><tr><td>&quot;Hello, world! …</td><td>&quot;word&quot;</td></tr><tr><td>&quot;Hello, world! …</td><td>&quot;words&quot;</td></tr><tr><td>&quot;Hello, world! …</td><td>&quot;word&quot;</td></tr><tr><td>&quot;Hello, world! …</td><td>&quot;words&quot;</td></tr></tbody></table></div>"
      ],
      "text/plain": [
       "shape: (5, 2)\n",
       "┌───────────────────────────────────┬───────┐\n",
       "│ sen                               ┆ word  │\n",
       "│ ---                               ┆ ---   │\n",
       "│ str                               ┆ str   │\n",
       "╞═══════════════════════════════════╪═══════╡\n",
       "│ Hello, world! I'm going to churc… ┆ words │\n",
       "│ Hello, world! I'm going to churc… ┆ word  │\n",
       "│ Hello, world! I'm going to churc… ┆ words │\n",
       "│ Hello, world! I'm going to churc… ┆ word  │\n",
       "│ Hello, world! I'm going to churc… ┆ words │\n",
       "└───────────────────────────────────┴───────┘"
      ]
     },
     "execution_count": 15,
     "metadata": {},
     "output_type": "execute_result"
    }
   ],
   "source": [
    "size = 100_000\n",
    "df2 = pl.DataFrame({\n",
    "    \"sen\":[\"Hello, world! I'm going to church.\"] * size,\n",
    "    \"word\":[\"words\", \"word\"] * (size //2)\n",
    "})\n",
    "df2.head()"
   ]
  },
  {
   "cell_type": "code",
   "execution_count": 16,
   "id": "ee123a7e-7f9b-4f48-a5d5-6354799201ab",
   "metadata": {},
   "outputs": [
    {
     "data": {
      "text/html": [
       "<div><style>\n",
       ".dataframe > thead > tr > th,\n",
       ".dataframe > tbody > tr > td {\n",
       "  text-align: right;\n",
       "  white-space: pre-wrap;\n",
       "}\n",
       "</style>\n",
       "<small>shape: (5, 1)</small><table border=\"1\" class=\"dataframe\"><thead><tr><th>sen</th></tr><tr><td>str</td></tr></thead><tbody><tr><td>&quot;hello&quot;</td></tr><tr><td>&quot;to&quot;</td></tr><tr><td>&quot;going&quot;</td></tr><tr><td>&quot;world&quot;</td></tr><tr><td>&quot;church&quot;</td></tr></tbody></table></div>"
      ],
      "text/plain": [
       "shape: (5, 1)\n",
       "┌────────┐\n",
       "│ sen    │\n",
       "│ ---    │\n",
       "│ str    │\n",
       "╞════════╡\n",
       "│ hello  │\n",
       "│ to     │\n",
       "│ going  │\n",
       "│ world  │\n",
       "│ church │\n",
       "└────────┘"
      ]
     },
     "execution_count": 16,
     "metadata": {},
     "output_type": "execute_result"
    }
   ],
   "source": [
    "# Tokenize\n",
    "df2.select(\n",
    "    pl.col(\"sen\").str.to_lowercase().str_ext.tokenize().explode().unique()\n",
    ")"
   ]
  },
  {
   "cell_type": "code",
   "execution_count": 17,
   "id": "f33017e3-17df-498b-93d9-1d656a344388",
   "metadata": {},
   "outputs": [
    {
     "data": {
      "text/html": [
       "<div><style>\n",
       ".dataframe > thead > tr > th,\n",
       ".dataframe > tbody > tr > td {\n",
       "  text-align: right;\n",
       "  white-space: pre-wrap;\n",
       "}\n",
       "</style>\n",
       "<small>shape: (4, 1)</small><table border=\"1\" class=\"dataframe\"><thead><tr><th>sen</th></tr><tr><td>str</td></tr></thead><tbody><tr><td>&quot;hello&quot;</td></tr><tr><td>&quot;go&quot;</td></tr><tr><td>&quot;church&quot;</td></tr><tr><td>&quot;world&quot;</td></tr></tbody></table></div>"
      ],
      "text/plain": [
       "shape: (4, 1)\n",
       "┌────────┐\n",
       "│ sen    │\n",
       "│ ---    │\n",
       "│ str    │\n",
       "╞════════╡\n",
       "│ hello  │\n",
       "│ go     │\n",
       "│ church │\n",
       "│ world  │\n",
       "└────────┘"
      ]
     },
     "execution_count": 17,
     "metadata": {},
     "output_type": "execute_result"
    }
   ],
   "source": [
    "df2.select(\n",
    "    pl.col(\"sen\").str.to_lowercase().str_ext.tokenize(stem=True).explode().unique()\n",
    ")"
   ]
  },
  {
   "cell_type": "code",
   "execution_count": 18,
   "id": "69237c02-5f9f-4e92-b68d-6ac43aad1a79",
   "metadata": {},
   "outputs": [
    {
     "data": {
      "text/html": [
       "<div><style>\n",
       ".dataframe > thead > tr > th,\n",
       ".dataframe > tbody > tr > td {\n",
       "  text-align: right;\n",
       "  white-space: pre-wrap;\n",
       "}\n",
       "</style>\n",
       "<small>shape: (5, 1)</small><table border=\"1\" class=\"dataframe\"><thead><tr><th>word</th></tr><tr><td>u32</td></tr></thead><tbody><tr><td>2</td></tr><tr><td>1</td></tr><tr><td>2</td></tr><tr><td>1</td></tr><tr><td>2</td></tr></tbody></table></div>"
      ],
      "text/plain": [
       "shape: (5, 1)\n",
       "┌──────┐\n",
       "│ word │\n",
       "│ ---  │\n",
       "│ u32  │\n",
       "╞══════╡\n",
       "│ 2    │\n",
       "│ 1    │\n",
       "│ 2    │\n",
       "│ 1    │\n",
       "│ 2    │\n",
       "└──────┘"
      ]
     },
     "execution_count": 18,
     "metadata": {},
     "output_type": "execute_result"
    }
   ],
   "source": [
    "df2.select(\n",
    "    pl.col(\"word\").str_ext.levenshtein(\"world\")\n",
    ").head()"
   ]
  },
  {
   "cell_type": "code",
   "execution_count": 19,
   "metadata": {},
   "outputs": [
    {
     "data": {
      "text/html": [
       "<div><style>\n",
       ".dataframe > thead > tr > th,\n",
       ".dataframe > tbody > tr > td {\n",
       "  text-align: right;\n",
       "  white-space: pre-wrap;\n",
       "}\n",
       "</style>\n",
       "<small>shape: (5, 1)</small><table border=\"1\" class=\"dataframe\"><thead><tr><th>word</th></tr><tr><td>u32</td></tr></thead><tbody><tr><td>2</td></tr><tr><td>1</td></tr><tr><td>2</td></tr><tr><td>1</td></tr><tr><td>2</td></tr></tbody></table></div>"
      ],
      "text/plain": [
       "shape: (5, 1)\n",
       "┌──────┐\n",
       "│ word │\n",
       "│ ---  │\n",
       "│ u32  │\n",
       "╞══════╡\n",
       "│ 2    │\n",
       "│ 1    │\n",
       "│ 2    │\n",
       "│ 1    │\n",
       "│ 2    │\n",
       "└──────┘"
      ]
     },
     "execution_count": 19,
     "metadata": {},
     "output_type": "execute_result"
    }
   ],
   "source": [
    "# Damerau-Levenshtein\n",
    "df2.select(\n",
    "    pl.col(\"word\").str_ext.d_levenshtein(\"world\")\n",
    ").head()"
   ]
  },
  {
   "cell_type": "code",
   "execution_count": 22,
   "metadata": {},
   "outputs": [
    {
     "data": {
      "text/html": [
       "<div><style>\n",
       ".dataframe > thead > tr > th,\n",
       ".dataframe > tbody > tr > td {\n",
       "  text-align: right;\n",
       "  white-space: pre-wrap;\n",
       "}\n",
       "</style>\n",
       "<small>shape: (5, 1)</small><table border=\"1\" class=\"dataframe\"><thead><tr><th>word</th></tr><tr><td>f64</td></tr></thead><tbody><tr><td>0.6</td></tr><tr><td>0.8</td></tr><tr><td>0.6</td></tr><tr><td>0.8</td></tr><tr><td>0.6</td></tr></tbody></table></div>"
      ],
      "text/plain": [
       "shape: (5, 1)\n",
       "┌──────┐\n",
       "│ word │\n",
       "│ ---  │\n",
       "│ f64  │\n",
       "╞══════╡\n",
       "│ 0.6  │\n",
       "│ 0.8  │\n",
       "│ 0.6  │\n",
       "│ 0.8  │\n",
       "│ 0.6  │\n",
       "└──────┘"
      ]
     },
     "execution_count": 22,
     "metadata": {},
     "output_type": "execute_result"
    }
   ],
   "source": [
    "df2.select(\n",
    "    pl.col(\"word\").str_ext.levenshtein(\"world\", return_sim = True)\n",
    ").head()"
   ]
  },
  {
   "cell_type": "code",
   "execution_count": 21,
   "id": "2dad7633-67fa-47f3-b86a-9f4cd097a650",
   "metadata": {},
   "outputs": [
    {
     "data": {
      "text/html": [
       "<div><style>\n",
       ".dataframe > thead > tr > th,\n",
       ".dataframe > tbody > tr > td {\n",
       "  text-align: right;\n",
       "  white-space: pre-wrap;\n",
       "}\n",
       "</style>\n",
       "<small>shape: (5, 2)</small><table border=\"1\" class=\"dataframe\"><thead><tr><th>sen</th><th>word</th></tr><tr><td>str</td><td>str</td></tr></thead><tbody><tr><td>&quot;Hello, world! …</td><td>&quot;word&quot;</td></tr><tr><td>&quot;Hello, world! …</td><td>&quot;word&quot;</td></tr><tr><td>&quot;Hello, world! …</td><td>&quot;word&quot;</td></tr><tr><td>&quot;Hello, world! …</td><td>&quot;word&quot;</td></tr><tr><td>&quot;Hello, world! …</td><td>&quot;word&quot;</td></tr></tbody></table></div>"
      ],
      "text/plain": [
       "shape: (5, 2)\n",
       "┌───────────────────────────────────┬──────┐\n",
       "│ sen                               ┆ word │\n",
       "│ ---                               ┆ ---  │\n",
       "│ str                               ┆ str  │\n",
       "╞═══════════════════════════════════╪══════╡\n",
       "│ Hello, world! I'm going to churc… ┆ word │\n",
       "│ Hello, world! I'm going to churc… ┆ word │\n",
       "│ Hello, world! I'm going to churc… ┆ word │\n",
       "│ Hello, world! I'm going to churc… ┆ word │\n",
       "│ Hello, world! I'm going to churc… ┆ word │\n",
       "└───────────────────────────────────┴──────┘"
      ]
     },
     "execution_count": 21,
     "metadata": {},
     "output_type": "execute_result"
    }
   ],
   "source": [
    "df2.filter(\n",
    "    pl.col(\"word\").str_ext.levenshtein(\"world\") == 1\n",
    ").head()"
   ]
  },
  {
   "cell_type": "code",
   "execution_count": null,
   "metadata": {},
   "outputs": [],
   "source": []
  },
  {
   "cell_type": "code",
   "execution_count": null,
   "metadata": {},
   "outputs": [],
   "source": []
  }
 ],
 "metadata": {
  "kernelspec": {
   "display_name": "Python 3 (ipykernel)",
   "language": "python",
   "name": "python3"
  },
  "language_info": {
   "codemirror_mode": {
    "name": "ipython",
    "version": 3
   },
   "file_extension": ".py",
   "mimetype": "text/x-python",
   "name": "python",
   "nbconvert_exporter": "python",
   "pygments_lexer": "ipython3",
   "version": "3.11.5"
  }
 },
 "nbformat": 4,
 "nbformat_minor": 5
}
