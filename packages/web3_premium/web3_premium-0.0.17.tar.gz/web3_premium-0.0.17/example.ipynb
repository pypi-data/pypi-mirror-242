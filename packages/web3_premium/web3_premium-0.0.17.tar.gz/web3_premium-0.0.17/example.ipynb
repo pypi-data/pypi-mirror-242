{
 "cells": [
  {
   "cell_type": "code",
   "execution_count": 3,
   "id": "a5440d22-b776-49fc-a664-8e4715c3a726",
   "metadata": {},
   "outputs": [],
   "source": [
    "import datetime\n",
    "import time\n",
    "import pandas as pd\n",
    "\n",
    "from tqdm.notebook import trange\n",
    "\n",
    "from web3_premium.explorer import etherscan\n",
    "from web3_premium.contract import Contract\n",
    "from web3_premium.chains import ethereum"
   ]
  },
  {
   "cell_type": "code",
   "execution_count": 2,
   "id": "62fa328b-be13-4c46-9003-09c634ca2b18",
   "metadata": {},
   "outputs": [],
   "source": [
    "dt = datetime.datetime(year=2022, month=1, day=1, hour=12, minute=1)\n",
    "start_block = int(etherscan.block.getblocknobytime(timestamp=int(dt.timestamp()), closest=\"before\"))\n",
    "time.sleep(5)\n",
    "end_block = int(etherscan.block.getblocknobytime(timestamp=int(dt.timestamp() + 10000000), closest=\"before\"))\n",
    "step = int((1/15) * 60 * 60 * 10)\n",
    "time.sleep(5)"
   ]
  },
  {
   "cell_type": "code",
   "execution_count": 4,
   "id": "9202ad78-d640-4635-a5e5-17a002804b8b",
   "metadata": {},
   "outputs": [
    {
     "data": {
      "application/vnd.jupyter.widget-view+json": {
       "model_id": "a39883aa37cd433bb5c05c2a69463108",
       "version_major": 2,
       "version_minor": 0
      },
      "text/plain": [
       "  0%|          | 0/311 [00:00<?, ?it/s]"
      ]
     },
     "metadata": {},
     "output_type": "display_data"
    },
    {
     "name": "stdout",
     "output_type": "stream",
     "text": [
      "      block       balance   timestamp\n",
      "0  13918590  715399946626  1641027592\n",
      "1  13920990  715399946626  1641059631\n",
      "2  13923390  715399946626  1641091400\n",
      "3  13925790  715449913672  1641124190\n",
      "4  13928190  715449913672  1641155058\n"
     ]
    }
   ],
   "source": [
    "usdt = Contract(\"0xdAC17F958D2ee523a2206206994597C13D831ec7\", ethereum)\n",
    "\n",
    "rows = []\n",
    "for block in trange(start_block, end_block, step):\n",
    "    block_info = ethereum.eth.get_block(block)\n",
    "    usdtBalance = usdt.balanceOf(\"0xdAC17F958D2ee523a2206206994597C13D831ec7\", block=block)\n",
    "    rows.append({\n",
    "        \"block\": block,\n",
    "        \"balance\": usdtBalance,\n",
    "        \"timestamp\": block_info.timestamp\n",
    "    })\n",
    "\n",
    "df = pd.DataFrame(rows)"
   ]
  },
  {
   "cell_type": "code",
   "execution_count": 5,
   "id": "003011a5-386e-4b5d-85f8-4033d6cd5fda",
   "metadata": {},
   "outputs": [
    {
     "data": {
      "text/html": [
       "<div>\n",
       "<style scoped>\n",
       "    .dataframe tbody tr th:only-of-type {\n",
       "        vertical-align: middle;\n",
       "    }\n",
       "\n",
       "    .dataframe tbody tr th {\n",
       "        vertical-align: top;\n",
       "    }\n",
       "\n",
       "    .dataframe thead th {\n",
       "        text-align: right;\n",
       "    }\n",
       "</style>\n",
       "<table border=\"1\" class=\"dataframe\">\n",
       "  <thead>\n",
       "    <tr style=\"text-align: right;\">\n",
       "      <th></th>\n",
       "      <th>block</th>\n",
       "      <th>balance</th>\n",
       "      <th>timestamp</th>\n",
       "    </tr>\n",
       "  </thead>\n",
       "  <tbody>\n",
       "    <tr>\n",
       "      <th>0</th>\n",
       "      <td>13918590</td>\n",
       "      <td>715399946626</td>\n",
       "      <td>1641027592</td>\n",
       "    </tr>\n",
       "    <tr>\n",
       "      <th>1</th>\n",
       "      <td>13920990</td>\n",
       "      <td>715399946626</td>\n",
       "      <td>1641059631</td>\n",
       "    </tr>\n",
       "    <tr>\n",
       "      <th>2</th>\n",
       "      <td>13923390</td>\n",
       "      <td>715399946626</td>\n",
       "      <td>1641091400</td>\n",
       "    </tr>\n",
       "    <tr>\n",
       "      <th>3</th>\n",
       "      <td>13925790</td>\n",
       "      <td>715449913672</td>\n",
       "      <td>1641124190</td>\n",
       "    </tr>\n",
       "    <tr>\n",
       "      <th>4</th>\n",
       "      <td>13928190</td>\n",
       "      <td>715449913672</td>\n",
       "      <td>1641155058</td>\n",
       "    </tr>\n",
       "  </tbody>\n",
       "</table>\n",
       "</div>"
      ],
      "text/plain": [
       "      block       balance   timestamp\n",
       "0  13918590  715399946626  1641027592\n",
       "1  13920990  715399946626  1641059631\n",
       "2  13923390  715399946626  1641091400\n",
       "3  13925790  715449913672  1641124190\n",
       "4  13928190  715449913672  1641155058"
      ]
     },
     "execution_count": 5,
     "metadata": {},
     "output_type": "execute_result"
    }
   ],
   "source": [
    "df.head()"
   ]
  }
 ],
 "metadata": {
  "kernelspec": {
   "display_name": "Python 3 (ipykernel)",
   "language": "python",
   "name": "python3"
  },
  "language_info": {
   "codemirror_mode": {
    "name": "ipython",
    "version": 3
   },
   "file_extension": ".py",
   "mimetype": "text/x-python",
   "name": "python",
   "nbconvert_exporter": "python",
   "pygments_lexer": "ipython3",
   "version": "3.10.2"
  }
 },
 "nbformat": 4,
 "nbformat_minor": 5
}
