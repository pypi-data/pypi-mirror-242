{
  "cells": [
    {
      "cell_type": "markdown",
      "metadata": {
        "colab_type": "text",
        "id": "view-in-github"
      },
      "source": [
        "<a href=\"https://colab.research.google.com/github/vitroid/GenIce-core/blob/main/example.ipynb\" target=\"_parent\"><img src=\"https://colab.research.google.com/assets/colab-badge.svg\" alt=\"Open In Colab\"/></a>"
      ]
    },
    {
      "cell_type": "markdown",
      "metadata": {
        "id": "1seOAdKi9r1h"
      },
      "source": [
        "## for Google Colaboratory"
      ]
    },
    {
      "cell_type": "code",
      "execution_count": null,
      "metadata": {
        "id": "oe2Lyk1o9rBf"
      },
      "outputs": [],
      "source": [
        "%pip install git+https://github.com/vitroid/GenIce-core.git pairlist"
      ]
    },
    {
      "cell_type": "markdown",
      "metadata": {
        "id": "RecKmyFH9khy"
      },
      "source": [
        "## 1. Make an arbitrary graph directed."
      ]
    },
    {
      "cell_type": "code",
      "execution_count": null,
      "metadata": {
        "id": "6d-3otwO9kh0"
      },
      "outputs": [],
      "source": [
        "import networkx as nx\n",
        "import matplotlib\n",
        "import genice_core\n",
        "\n",
        "g = nx.dodecahedral_graph()  # dodecahedral 20mer\n",
        "pos = nx.spring_layout(g)\n",
        "\n",
        "# set orientations of the hydrogen bonds.\n",
        "dg = genice_core.ice_graph(g)\n",
        "\n",
        "nx.draw_networkx(dg, pos)"
      ]
    },
    {
      "cell_type": "markdown",
      "metadata": {
        "id": "8fu7gRuU9kh2"
      },
      "source": [
        "## 2. And depolarized."
      ]
    },
    {
      "cell_type": "code",
      "execution_count": null,
      "metadata": {
        "id": "n8pRD6om9kh2"
      },
      "outputs": [],
      "source": [
        "import networkx as nx\n",
        "import matplotlib\n",
        "import genice_core\n",
        "from logging import getLogger, DEBUG, basicConfig, INFO\n",
        "\n",
        "basicConfig(level=INFO)\n",
        "logger=getLogger()\n",
        "\n",
        "g = nx.dodecahedral_graph()  # dodecahedral 20mer\n",
        "pos = nx.spring_layout(g)\n",
        "\n",
        "# set orientations of the hydrogen bonds.\n",
        "# Minimize the net dipole moment.\n",
        "dg = genice_core.ice_graph(g, pos, dipoleOptimizationCycles=100)\n",
        "\n",
        "nx.draw_networkx(dg, pos)"
      ]
    },
    {
      "cell_type": "markdown",
      "metadata": {
        "id": "74Jt1R_T9kh3"
      },
      "source": [
        "## 3. Under the periodic boundary condition."
      ]
    },
    {
      "cell_type": "code",
      "execution_count": null,
      "metadata": {
        "id": "uk-lEcZy9kh4"
      },
      "outputs": [],
      "source": [
        "from logging import DEBUG, INFO, basicConfig, getLogger\n",
        "\n",
        "import networkx as nx\n",
        "import numpy as np\n",
        "\n",
        "# import py3Dmol\n",
        "import pairlist\n",
        "from genice_core import ice_graph\n",
        "\n",
        "logger = getLogger()\n",
        "basicConfig(level=INFO)\n",
        "\n",
        "# a sample structure of ice 1h.\n",
        "# The first line specifies the cell dimension, and atomic positions (absolute) follows.\n",
        "pos = np.loadtxt(\"ice1h.txt\").reshape(-1, 3)\n",
        "cell, coords = pos[0], pos[1:]\n",
        "\n",
        "# prepare the cell matrix\n",
        "cellmat = np.diag(cell)\n",
        "\n",
        "# make the fractional coordinates\n",
        "fracCoords = coords / cell\n",
        "\n",
        "# make a graph from the proximity\n",
        "g = nx.Graph([(i, j) for i, j, _ in pairlist.pairs_iter(fracCoords, 0.3, cellmat)])\n",
        "\n",
        "# set orientations of the hydrogen bonds.\n",
        "dg = ice_graph(\n",
        "    g, vertexPositions=fracCoords, isPeriodicBoundary=True, dipoleOptimizationCycles=100\n",
        ")\n",
        "dg"
      ]
    },
    {
      "cell_type": "markdown",
      "metadata": {
        "id": "1PSs_WiV_aM7"
      },
      "source": [
        "## Benchmark tests"
      ]
    },
    {
      "cell_type": "markdown",
      "metadata": {
        "id": "9a5t5n49_ch-"
      },
      "source": [
        "### Scalability"
      ]
    },
    {
      "cell_type": "code",
      "execution_count": null,
      "metadata": {},
      "outputs": [],
      "source": [
        "import pairlist as pl\n",
        "import networkx as nx\n",
        "import genice_core\n",
        "import numpy as np\n",
        "import time\n",
        "import matplotlib.pyplot as plt\n",
        "from logging import getLogger, basicConfig, INFO\n",
        "\n",
        "\n",
        "def diamond(N: int) -> np.ndarray:\n",
        "    \"\"\"Diamond lattice. == ice 1c\n",
        "\n",
        "    Args:\n",
        "        N (int): Number of unit cells per an edge of the simulation cell.\n",
        "\n",
        "    Returns:\n",
        "        np.ndarray: atomic positions in the fractional coordinate.\n",
        "    \"\"\"\n",
        "    # make an FCC\n",
        "    xyz = np.array(\n",
        "        [\n",
        "            (x, y, z)\n",
        "            for x in range(N)\n",
        "            for y in range(N)\n",
        "            for z in range(N)\n",
        "            if (x + y + z) % 2 == 0\n",
        "        ]\n",
        "    )\n",
        "    xyz = np.vstack([xyz, xyz + 0.5])\n",
        "    return xyz / N\n",
        "\n",
        "\n",
        "basicConfig(level=INFO)\n",
        "logger = getLogger()\n",
        "\n",
        "np.random.seed(998)\n",
        "\n",
        "for doped, depol in (\n",
        "    (True, 1000),\n",
        "    (False, 0),\n",
        "    (False, 1000),\n",
        "):\n",
        "    X = []\n",
        "    Y = []\n",
        "    for N in (4, 6, 8, 12, 16, 24, 36, 48, 64, 96):  # , 64, 96):\n",
        "        logger.info(f\"Size {N}\")\n",
        "\n",
        "        pos = diamond(N)\n",
        "        cell = np.diag([N, N, N])\n",
        "\n",
        "        # adjacency graph\n",
        "        g = nx.Graph(\n",
        "            [\n",
        "                (i, j)\n",
        "                for i, j in pl.pairs_iter(pos, 1, cell, fractional=True, distance=False)\n",
        "            ]\n",
        "        )\n",
        "\n",
        "        fixed = nx.DiGraph()\n",
        "        if doped:\n",
        "            for nei in g[0]:\n",
        "                fixed.add_edge(0, nei)\n",
        "            c = len(g.nodes()) // 4\n",
        "            pairDistance = nx.shortest_path_length(g, 0, c)\n",
        "            logger.info(f\"Distance between a cation and an anion: {pairDistance}.\")\n",
        "            for nei in g[c]:\n",
        "                fixed.add_edge(nei, c)\n",
        "\n",
        "        dt = []\n",
        "        for i in range(10):\n",
        "            now = time.time()\n",
        "            dg = genice_core.ice_graph(\n",
        "                g,\n",
        "                vertexPositions=pos,\n",
        "                dipoleOptimizationCycles=depol,\n",
        "                isPeriodicBoundary=True,\n",
        "                fixedEdges=fixed,\n",
        "            )\n",
        "            dt.append(time.time() - now)\n",
        "        X.append(len(g))\n",
        "        Y.append(np.mean(dt))\n",
        "        logger.info(f\"Size {N} Done.\\n\")\n",
        "\n",
        "    plt.plot(X, Y, \"o-\", label=f\"depol loop={depol} {'Doped' if doped else ''}\")\n",
        "\n",
        "plt.xscale(\"log\")\n",
        "plt.yscale(\"log\")\n",
        "X = np.logspace(3, 5, 10)\n",
        "Y = X / 20000\n",
        "plt.plot(X, Y, \"k:\", label=\"linear\")\n",
        "plt.xlabel(\"Number of nodes\")\n",
        "plt.ylabel(\"Time / s\")\n",
        "plt.legend()"
      ]
    },
    {
      "cell_type": "markdown",
      "metadata": {
        "id": "mNr4y0JsGD7Y"
      },
      "source": [
        "### Doped ice\n",
        "\n",
        "Comparison with original GenIce 2.1 using Buch's algorithm."
      ]
    },
    {
      "cell_type": "code",
      "execution_count": null,
      "metadata": {
        "id": "_jtD5N4SGry6"
      },
      "outputs": [],
      "source": [
        "%pip install git+https://github.com/vitroid/GenIce.git#2.1.7.2"
      ]
    },
    {
      "cell_type": "code",
      "execution_count": null,
      "metadata": {
        "id": "AdTrJPJHGtsa"
      },
      "outputs": [],
      "source": [
        "! time genice2 1c -r 30 30 30 --cation 0=Li --anion 1000=F --depol=optimal > doped1c.gro\n",
        "# 65 sec for stages 3 and 4 on Apple M1\n"
      ]
    },
    {
      "cell_type": "code",
      "execution_count": null,
      "metadata": {},
      "outputs": [],
      "source": [
        "! time genice2 1c -r 30 30 30 --depol=strict > doped1c.gro\n",
        "# 6 sec for stage 3D on Apple M1\n"
      ]
    },
    {
      "cell_type": "code",
      "execution_count": null,
      "metadata": {
        "id": "P4RUi-UEGxYl"
      },
      "outputs": [],
      "source": [
        "! pip install git+https://github.com/vitroid/GenIce.git@genice-core"
      ]
    },
    {
      "cell_type": "code",
      "execution_count": null,
      "metadata": {
        "id": "LaulJumEHfPs"
      },
      "outputs": [],
      "source": [
        "! time genice2 1c -r 30 30 30 --cation 0=Li --anion 1000=F --depol=optimal > doped1c.gro\n",
        "# 15.8 sec for stage 34E on Apple M1\n"
      ]
    },
    {
      "cell_type": "code",
      "execution_count": null,
      "metadata": {},
      "outputs": [],
      "source": [
        "! time genice2 1c -r 30 30 30 --depol=optimal > doped1c.gro\n",
        "# 7.7 sec for stage 34E on Apple M1\n"
      ]
    },
    {
      "cell_type": "code",
      "execution_count": null,
      "metadata": {
        "id": "DWjPBn5yHsOb"
      },
      "outputs": [],
      "source": [
        "! pip install py3dmol"
      ]
    },
    {
      "cell_type": "code",
      "execution_count": null,
      "metadata": {
        "id": "CNYtjcETLZ_h"
      },
      "outputs": [],
      "source": [
        "! time genice2 1c -r 4 4 4 --cation 0=Li --anion 10=F --depol=optimal > doped1c.gro"
      ]
    },
    {
      "cell_type": "code",
      "execution_count": null,
      "metadata": {
        "id": "rmt5qMlMKh1v"
      },
      "outputs": [],
      "source": [
        "# なぜか表示されない\n",
        "import py3Dmol\n",
        "\n",
        "# show\n",
        "view = py3Dmol.view()\n",
        "view.addModel(\"doped1c.gro\")\n",
        "view.setStyle({'stick':{}})\n",
        "view.addUnitCell()\n",
        "view.zoomTo()\n",
        "view.show()"
      ]
    },
    {
      "cell_type": "markdown",
      "metadata": {},
      "source": [
        "### Normal ice\n",
        "\n",
        "Improvement from GenIce2.1"
      ]
    },
    {
      "cell_type": "code",
      "execution_count": null,
      "metadata": {
        "id": "RGzd2Ra3Lhms"
      },
      "outputs": [],
      "source": [
        "! pip install git+https://github.com/vitroid/GenIce.git#2.1.7.2\n",
        "! time genice2 1c -r 30 30 30 > doped1c.gro"
      ]
    },
    {
      "cell_type": "code",
      "execution_count": null,
      "metadata": {
        "id": "T-zonSKPOAa7"
      },
      "outputs": [],
      "source": [
        "! pip uninstall -y genice2\n",
        "! pip install git+https://github.com/vitroid/GenIce.git@genice-core\n",
        "! time genice2 1c -r 30 30 30 > doped1c.gro\n",
        "! genice2 --version"
      ]
    },
    {
      "cell_type": "markdown",
      "metadata": {},
      "source": [
        "## Debug and Tuning"
      ]
    },
    {
      "cell_type": "code",
      "execution_count": null,
      "metadata": {
        "id": "wMITeElB9kh5"
      },
      "outputs": [],
      "source": [
        "import pairlist as pl\n",
        "import networkx as nx\n",
        "import genice_core\n",
        "import time\n",
        "import matplotlib.pyplot as plt\n",
        "from logging import getLogger, INFO, basicConfig\n",
        "\n",
        "logger = getLogger()\n",
        "basicConfig(level=INFO)\n",
        "\n",
        "\n",
        "def main():\n",
        "    np.random.seed(999)\n",
        "\n",
        "    N = 64\n",
        "    pos = diamond(N)\n",
        "    cell = np.diag([N, N, N])\n",
        "    # adjacency graph\n",
        "    g = nx.Graph(\n",
        "        [\n",
        "            (i, j)\n",
        "            for i, j in pl.pairs_iter(pos, 1, cell, fractional=True, distance=False)\n",
        "        ]\n",
        "    )\n",
        "\n",
        "    now = time.time()\n",
        "    dg = genice_core.ice_graph(\n",
        "        g,\n",
        "        vertexPositions=pos,\n",
        "        dipoleOptimizationCycles=100,\n",
        "    )\n",
        "\n",
        "\n",
        "import cProfile\n",
        "\n",
        "cProfile.run(\"main()\", filename=\"main.prof\")"
      ]
    },
    {
      "cell_type": "code",
      "execution_count": null,
      "metadata": {},
      "outputs": [],
      "source": [
        "import pstats\n",
        "\n",
        "sts = pstats.Stats(\"main.prof\")\n",
        "sts.strip_dirs().sort_stats(-1).print_stats()"
      ]
    },
    {
      "cell_type": "code",
      "execution_count": null,
      "metadata": {},
      "outputs": [],
      "source": [
        "import networkx as nx\n",
        "import matplotlib\n",
        "import genice_core\n",
        "from logging import getLogger, DEBUG, basicConfig, INFO\n",
        "import numpy as np\n",
        "\n",
        "basicConfig(level=INFO)\n",
        "logger = getLogger()\n",
        "\n",
        "np.random.seed(999)\n",
        "\n",
        "g = nx.dodecahedral_graph()  # dodecahedral 20mer\n",
        "pos = nx.spring_layout(g)\n",
        "\n",
        "fixed = nx.DiGraph(\n",
        "    [\n",
        "        [0, 1],\n",
        "    ]\n",
        ")\n",
        "\n",
        "# set orientations of the hydrogen bonds.\n",
        "# Minimize the net dipole moment.\n",
        "dg = genice_core.ice_graph(\n",
        "    g,\n",
        "    pos,\n",
        "    dipoleOptimizationCycles=100,\n",
        "    fixedEdges=fixed,\n",
        ")\n",
        "\n",
        "nx.draw_networkx(dg, pos)"
      ]
    },
    {
      "cell_type": "code",
      "execution_count": null,
      "metadata": {},
      "outputs": [],
      "source": []
    }
  ],
  "metadata": {
    "colab": {
      "include_colab_link": true,
      "provenance": []
    },
    "kernelspec": {
      "display_name": "GenIce-core-RY0sKM3p",
      "language": "python",
      "name": "python3"
    },
    "language_info": {
      "codemirror_mode": {
        "name": "ipython",
        "version": 3
      },
      "file_extension": ".py",
      "mimetype": "text/x-python",
      "name": "python",
      "nbconvert_exporter": "python",
      "pygments_lexer": "ipython3",
      "version": "3.11.4"
    }
  },
  "nbformat": 4,
  "nbformat_minor": 0
}
